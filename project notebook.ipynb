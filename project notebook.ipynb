{
 "cells": [
  {
   "cell_type": "markdown",
   "id": "1e7fa9d8",
   "metadata": {},
   "source": [
    "# Aviation Accident Database & Synopses, up to 2023 Analysis and Findings"
   ]
  },
  {
   "cell_type": "markdown",
   "id": "fb3b0a58",
   "metadata": {},
   "source": [
    "\n",
    "<img src=\"cockpit.jpg\" alt=\"Cockpit\" width=\"650\" height=\"450\">"
   ]
  },
  {
   "cell_type": "markdown",
   "id": "e90ec7eb",
   "metadata": {},
   "source": [
    "### I.Overview\n",
    "\n",
    "This project reviews data from the NTSB aviation accident database contains information from 1962 upto 2023 about civil aviation accidents and selected incidents within the United States, its territories and possessions, and in international waters .As the company expands into new industries, it acknowledges the crucial need to assess and manage the risks linked to aircraft operations. Although the aviation sector is profitable, it involves inherent risks that require careful analysis to ensure well-informed purchasing decisions."
   ]
  },
  {
   "cell_type": "markdown",
   "id": "0c9900f2",
   "metadata": {},
   "source": [
    "### II.Business Understanding\n",
    "The company seeks to broaden its portfolio by venturing into the aviation sector, intending to acquire and manage aircraft for both commercial use and private uses. The objective is to pinpoint the aircraft that carry the most risk, thereby ensuring safety through the actions to be taken and reducing potential liabilities. This information will guide the purchasing decisions for the new aviation division, focusing on safety and reliability.\n"
   ]
  },
  {
   "cell_type": "markdown",
   "id": "089a587f",
   "metadata": {},
   "source": [
    "### III.Data Understanding\n",
    "The dataset includes temporal data with incident dates and information on accident identification from [National Transportation Safety Board (NTSB)](http://www.ntsb.gov/)  and it available on [Kaggle NTSB aviation accident dataset](https://www.kaggle.com/datasets/khsamaha/aviation-accident-database-synopses) upto *2023* such as distinct event identifiers and inquiry kinds. There is location information available, including precise locations and countries of occurrence; nevertheless, there is up to 40% missing data in certain location variables.<br> \n",
    "<br>\n",
    "The manufacturers, models, classifications, registration numbers, engine types, and number of engines are all covered in the information about aircraft; the percentage of missing data varies from 20% to 40% in different fields. Federal Aviation Regulations (FAR) descriptions, flight schedules, flight objectives, and air carriers are among the flight-related data, with significant missing values.\n",
    "<br>\n",
    "<br>\n",
    "The evaluation of data quality indicates that different columns have differing degrees of missing data, which calls for cautious management to guarantee correct analysis. Cleaning the data by resolving missing values, eliminating duplicates, and fixing inconsistencies are preprocessing steps.<br>\n",
    "<br>\n",
    "Using descriptive statistics to summarise broad trends, exploratory data analysis (EDA) will also use heat maps, scatter plots, and histograms to visualise patterns. Multivariate analysis can be used to look at the combined effects of several factors on accident chances, and correlation analysis can be used to find correlations between variables, such as aircraft models and accident severity establishing solid basis for risk assessment and analysis using thorough data preparation and understanding, assisting the business in making safe and well-informed decisions in its new aviation investements and Ventures"
   ]
  },
  {
   "cell_type": "markdown",
   "id": "2eaaf4c2",
   "metadata": {},
   "source": [
    "### 1.Importing the necessary libraries and Loading the Data"
   ]
  },
  {
   "cell_type": "code",
   "execution_count": 1,
   "id": "e795c778-343e-42d3-bb6d-d5f05df97992",
   "metadata": {},
   "outputs": [],
   "source": [
    "import pandas as pd\n",
    "import numpy as np\n",
    "import matplotlib.pyplot as plt\n",
    "import matplotlib.cm as cm \n",
    "import seaborn as sns\n",
    "%matplotlib inline"
   ]
  },
  {
   "cell_type": "markdown",
   "id": "5d009aeb",
   "metadata": {},
   "source": [
    "Loading the \"AviationData.csv\" using read_csv"
   ]
  },
  {
   "cell_type": "code",
   "execution_count": 2,
   "id": "9d420d9f",
   "metadata": {},
   "outputs": [
    {
     "name": "stderr",
     "output_type": "stream",
     "text": [
      "C:\\Users\\user\\AppData\\Local\\Temp\\ipykernel_8268\\4085860131.py:1: DtypeWarning: Columns (6,7,28) have mixed types. Specify dtype option on import or set low_memory=False.\n",
      "  df = pd.read_csv(\"AviationData.csv\",encoding='latin1')\n"
     ]
    },
    {
     "data": {
      "text/html": [
       "<div>\n",
       "<style scoped>\n",
       "    .dataframe tbody tr th:only-of-type {\n",
       "        vertical-align: middle;\n",
       "    }\n",
       "\n",
       "    .dataframe tbody tr th {\n",
       "        vertical-align: top;\n",
       "    }\n",
       "\n",
       "    .dataframe thead th {\n",
       "        text-align: right;\n",
       "    }\n",
       "</style>\n",
       "<table border=\"1\" class=\"dataframe\">\n",
       "  <thead>\n",
       "    <tr style=\"text-align: right;\">\n",
       "      <th></th>\n",
       "      <th>Event.Id</th>\n",
       "      <th>Investigation.Type</th>\n",
       "      <th>Accident.Number</th>\n",
       "      <th>Event.Date</th>\n",
       "      <th>Location</th>\n",
       "      <th>Country</th>\n",
       "      <th>Latitude</th>\n",
       "      <th>Longitude</th>\n",
       "      <th>Airport.Code</th>\n",
       "      <th>Airport.Name</th>\n",
       "      <th>...</th>\n",
       "      <th>Purpose.of.flight</th>\n",
       "      <th>Air.carrier</th>\n",
       "      <th>Total.Fatal.Injuries</th>\n",
       "      <th>Total.Serious.Injuries</th>\n",
       "      <th>Total.Minor.Injuries</th>\n",
       "      <th>Total.Uninjured</th>\n",
       "      <th>Weather.Condition</th>\n",
       "      <th>Broad.phase.of.flight</th>\n",
       "      <th>Report.Status</th>\n",
       "      <th>Publication.Date</th>\n",
       "    </tr>\n",
       "  </thead>\n",
       "  <tbody>\n",
       "    <tr>\n",
       "      <th>0</th>\n",
       "      <td>20001218X45444</td>\n",
       "      <td>Accident</td>\n",
       "      <td>SEA87LA080</td>\n",
       "      <td>1948-10-24</td>\n",
       "      <td>MOOSE CREEK, ID</td>\n",
       "      <td>United States</td>\n",
       "      <td>NaN</td>\n",
       "      <td>NaN</td>\n",
       "      <td>NaN</td>\n",
       "      <td>NaN</td>\n",
       "      <td>...</td>\n",
       "      <td>Personal</td>\n",
       "      <td>NaN</td>\n",
       "      <td>2.0</td>\n",
       "      <td>0.0</td>\n",
       "      <td>0.0</td>\n",
       "      <td>0.0</td>\n",
       "      <td>UNK</td>\n",
       "      <td>Cruise</td>\n",
       "      <td>Probable Cause</td>\n",
       "      <td>NaN</td>\n",
       "    </tr>\n",
       "    <tr>\n",
       "      <th>1</th>\n",
       "      <td>20001218X45447</td>\n",
       "      <td>Accident</td>\n",
       "      <td>LAX94LA336</td>\n",
       "      <td>1962-07-19</td>\n",
       "      <td>BRIDGEPORT, CA</td>\n",
       "      <td>United States</td>\n",
       "      <td>NaN</td>\n",
       "      <td>NaN</td>\n",
       "      <td>NaN</td>\n",
       "      <td>NaN</td>\n",
       "      <td>...</td>\n",
       "      <td>Personal</td>\n",
       "      <td>NaN</td>\n",
       "      <td>4.0</td>\n",
       "      <td>0.0</td>\n",
       "      <td>0.0</td>\n",
       "      <td>0.0</td>\n",
       "      <td>UNK</td>\n",
       "      <td>Unknown</td>\n",
       "      <td>Probable Cause</td>\n",
       "      <td>19-09-1996</td>\n",
       "    </tr>\n",
       "    <tr>\n",
       "      <th>2</th>\n",
       "      <td>20061025X01555</td>\n",
       "      <td>Accident</td>\n",
       "      <td>NYC07LA005</td>\n",
       "      <td>1974-08-30</td>\n",
       "      <td>Saltville, VA</td>\n",
       "      <td>United States</td>\n",
       "      <td>36.922223</td>\n",
       "      <td>-81.878056</td>\n",
       "      <td>NaN</td>\n",
       "      <td>NaN</td>\n",
       "      <td>...</td>\n",
       "      <td>Personal</td>\n",
       "      <td>NaN</td>\n",
       "      <td>3.0</td>\n",
       "      <td>NaN</td>\n",
       "      <td>NaN</td>\n",
       "      <td>NaN</td>\n",
       "      <td>IMC</td>\n",
       "      <td>Cruise</td>\n",
       "      <td>Probable Cause</td>\n",
       "      <td>26-02-2007</td>\n",
       "    </tr>\n",
       "  </tbody>\n",
       "</table>\n",
       "<p>3 rows × 31 columns</p>\n",
       "</div>"
      ],
      "text/plain": [
       "         Event.Id Investigation.Type Accident.Number  Event.Date  \\\n",
       "0  20001218X45444           Accident      SEA87LA080  1948-10-24   \n",
       "1  20001218X45447           Accident      LAX94LA336  1962-07-19   \n",
       "2  20061025X01555           Accident      NYC07LA005  1974-08-30   \n",
       "\n",
       "          Location        Country   Latitude  Longitude Airport.Code  \\\n",
       "0  MOOSE CREEK, ID  United States        NaN        NaN          NaN   \n",
       "1   BRIDGEPORT, CA  United States        NaN        NaN          NaN   \n",
       "2    Saltville, VA  United States  36.922223 -81.878056          NaN   \n",
       "\n",
       "  Airport.Name  ... Purpose.of.flight Air.carrier Total.Fatal.Injuries  \\\n",
       "0          NaN  ...          Personal         NaN                  2.0   \n",
       "1          NaN  ...          Personal         NaN                  4.0   \n",
       "2          NaN  ...          Personal         NaN                  3.0   \n",
       "\n",
       "  Total.Serious.Injuries Total.Minor.Injuries Total.Uninjured  \\\n",
       "0                    0.0                  0.0             0.0   \n",
       "1                    0.0                  0.0             0.0   \n",
       "2                    NaN                  NaN             NaN   \n",
       "\n",
       "  Weather.Condition  Broad.phase.of.flight   Report.Status Publication.Date  \n",
       "0               UNK                 Cruise  Probable Cause              NaN  \n",
       "1               UNK                Unknown  Probable Cause       19-09-1996  \n",
       "2               IMC                 Cruise  Probable Cause       26-02-2007  \n",
       "\n",
       "[3 rows x 31 columns]"
      ]
     },
     "execution_count": 2,
     "metadata": {},
     "output_type": "execute_result"
    }
   ],
   "source": [
    "df = pd.read_csv(\"AviationData.csv\",encoding='latin1')\n",
    "stc =pd.read_csv(\"USState_Codes.csv\",index_col=0 ,)\n",
    "df.head(3)"
   ]
  },
  {
   "cell_type": "markdown",
   "id": "1ca3360e",
   "metadata": {},
   "source": [
    "### 2. Checking the data size and previewing the Data"
   ]
  },
  {
   "cell_type": "code",
   "execution_count": 3,
   "id": "2eaf3f95",
   "metadata": {},
   "outputs": [
    {
     "name": "stdout",
     "output_type": "stream",
     "text": [
      "The number of rows are 88889\n",
      "The number of Columns are 31\n"
     ]
    }
   ],
   "source": [
    "# finding the shape of the Data frame\n",
    "df.shape\n",
    "num_rows = df.shape[0] #Provides the number of rows in the dataset\n",
    "num_cols = df.shape[1] #Provides the number of columns in the dataset\n",
    "\n",
    "print(f\"The number of rows are\" ,num_rows)\n",
    "print(f\"The number of Columns are\" ,num_cols)"
   ]
  },
  {
   "cell_type": "markdown",
   "id": "14f1264b",
   "metadata": {},
   "source": [
    "##### Looking at the first few sample of the Dataset to see how the data looks like"
   ]
  },
  {
   "cell_type": "code",
   "execution_count": 4,
   "id": "0818c99b",
   "metadata": {},
   "outputs": [
    {
     "data": {
      "text/html": [
       "<div>\n",
       "<style scoped>\n",
       "    .dataframe tbody tr th:only-of-type {\n",
       "        vertical-align: middle;\n",
       "    }\n",
       "\n",
       "    .dataframe tbody tr th {\n",
       "        vertical-align: top;\n",
       "    }\n",
       "\n",
       "    .dataframe thead th {\n",
       "        text-align: right;\n",
       "    }\n",
       "</style>\n",
       "<table border=\"1\" class=\"dataframe\">\n",
       "  <thead>\n",
       "    <tr style=\"text-align: right;\">\n",
       "      <th></th>\n",
       "      <th>Event.Id</th>\n",
       "      <th>Investigation.Type</th>\n",
       "      <th>Accident.Number</th>\n",
       "      <th>Event.Date</th>\n",
       "      <th>Location</th>\n",
       "      <th>Country</th>\n",
       "      <th>Latitude</th>\n",
       "      <th>Longitude</th>\n",
       "      <th>Airport.Code</th>\n",
       "      <th>Airport.Name</th>\n",
       "      <th>...</th>\n",
       "      <th>Purpose.of.flight</th>\n",
       "      <th>Air.carrier</th>\n",
       "      <th>Total.Fatal.Injuries</th>\n",
       "      <th>Total.Serious.Injuries</th>\n",
       "      <th>Total.Minor.Injuries</th>\n",
       "      <th>Total.Uninjured</th>\n",
       "      <th>Weather.Condition</th>\n",
       "      <th>Broad.phase.of.flight</th>\n",
       "      <th>Report.Status</th>\n",
       "      <th>Publication.Date</th>\n",
       "    </tr>\n",
       "  </thead>\n",
       "  <tbody>\n",
       "    <tr>\n",
       "      <th>0</th>\n",
       "      <td>20001218X45444</td>\n",
       "      <td>Accident</td>\n",
       "      <td>SEA87LA080</td>\n",
       "      <td>1948-10-24</td>\n",
       "      <td>MOOSE CREEK, ID</td>\n",
       "      <td>United States</td>\n",
       "      <td>NaN</td>\n",
       "      <td>NaN</td>\n",
       "      <td>NaN</td>\n",
       "      <td>NaN</td>\n",
       "      <td>...</td>\n",
       "      <td>Personal</td>\n",
       "      <td>NaN</td>\n",
       "      <td>2.0</td>\n",
       "      <td>0.0</td>\n",
       "      <td>0.0</td>\n",
       "      <td>0.0</td>\n",
       "      <td>UNK</td>\n",
       "      <td>Cruise</td>\n",
       "      <td>Probable Cause</td>\n",
       "      <td>NaN</td>\n",
       "    </tr>\n",
       "    <tr>\n",
       "      <th>1</th>\n",
       "      <td>20001218X45447</td>\n",
       "      <td>Accident</td>\n",
       "      <td>LAX94LA336</td>\n",
       "      <td>1962-07-19</td>\n",
       "      <td>BRIDGEPORT, CA</td>\n",
       "      <td>United States</td>\n",
       "      <td>NaN</td>\n",
       "      <td>NaN</td>\n",
       "      <td>NaN</td>\n",
       "      <td>NaN</td>\n",
       "      <td>...</td>\n",
       "      <td>Personal</td>\n",
       "      <td>NaN</td>\n",
       "      <td>4.0</td>\n",
       "      <td>0.0</td>\n",
       "      <td>0.0</td>\n",
       "      <td>0.0</td>\n",
       "      <td>UNK</td>\n",
       "      <td>Unknown</td>\n",
       "      <td>Probable Cause</td>\n",
       "      <td>19-09-1996</td>\n",
       "    </tr>\n",
       "    <tr>\n",
       "      <th>2</th>\n",
       "      <td>20061025X01555</td>\n",
       "      <td>Accident</td>\n",
       "      <td>NYC07LA005</td>\n",
       "      <td>1974-08-30</td>\n",
       "      <td>Saltville, VA</td>\n",
       "      <td>United States</td>\n",
       "      <td>36.922223</td>\n",
       "      <td>-81.878056</td>\n",
       "      <td>NaN</td>\n",
       "      <td>NaN</td>\n",
       "      <td>...</td>\n",
       "      <td>Personal</td>\n",
       "      <td>NaN</td>\n",
       "      <td>3.0</td>\n",
       "      <td>NaN</td>\n",
       "      <td>NaN</td>\n",
       "      <td>NaN</td>\n",
       "      <td>IMC</td>\n",
       "      <td>Cruise</td>\n",
       "      <td>Probable Cause</td>\n",
       "      <td>26-02-2007</td>\n",
       "    </tr>\n",
       "  </tbody>\n",
       "</table>\n",
       "<p>3 rows × 31 columns</p>\n",
       "</div>"
      ],
      "text/plain": [
       "         Event.Id Investigation.Type Accident.Number  Event.Date  \\\n",
       "0  20001218X45444           Accident      SEA87LA080  1948-10-24   \n",
       "1  20001218X45447           Accident      LAX94LA336  1962-07-19   \n",
       "2  20061025X01555           Accident      NYC07LA005  1974-08-30   \n",
       "\n",
       "          Location        Country   Latitude  Longitude Airport.Code  \\\n",
       "0  MOOSE CREEK, ID  United States        NaN        NaN          NaN   \n",
       "1   BRIDGEPORT, CA  United States        NaN        NaN          NaN   \n",
       "2    Saltville, VA  United States  36.922223 -81.878056          NaN   \n",
       "\n",
       "  Airport.Name  ... Purpose.of.flight Air.carrier Total.Fatal.Injuries  \\\n",
       "0          NaN  ...          Personal         NaN                  2.0   \n",
       "1          NaN  ...          Personal         NaN                  4.0   \n",
       "2          NaN  ...          Personal         NaN                  3.0   \n",
       "\n",
       "  Total.Serious.Injuries Total.Minor.Injuries Total.Uninjured  \\\n",
       "0                    0.0                  0.0             0.0   \n",
       "1                    0.0                  0.0             0.0   \n",
       "2                    NaN                  NaN             NaN   \n",
       "\n",
       "  Weather.Condition  Broad.phase.of.flight   Report.Status Publication.Date  \n",
       "0               UNK                 Cruise  Probable Cause              NaN  \n",
       "1               UNK                Unknown  Probable Cause       19-09-1996  \n",
       "2               IMC                 Cruise  Probable Cause       26-02-2007  \n",
       "\n",
       "[3 rows x 31 columns]"
      ]
     },
     "execution_count": 4,
     "metadata": {},
     "output_type": "execute_result"
    }
   ],
   "source": [
    "# Viewing the first few rows\n",
    "df.head(3)"
   ]
  },
  {
   "cell_type": "markdown",
   "id": "add9f59a",
   "metadata": {},
   "source": [
    "### 3.Data Cleaning and Data Handling"
   ]
  },
  {
   "cell_type": "markdown",
   "id": "d683c221",
   "metadata": {},
   "source": [
    "To get an in depth understanding of the Data in hand i have to perform investigative diagnostics into the Data frame using code sarting with some various python inbuilt methods e.g <br>\n",
    ".info<br>\n",
    ".describe<br>\n",
    "Once i've gained some information about the dataframe eg the umber of rows and the number of columns ill have to deal with various issues such as <br>\n",
    "* Structural issues <br>\n",
    "* Missing values<br>\n",
    "* Duplicates<br>\n",
    "* Outliers<br>\n",
    "\n"
   ]
  },
  {
   "cell_type": "code",
   "execution_count": 5,
   "id": "b53ba6d9",
   "metadata": {},
   "outputs": [
    {
     "data": {
      "text/html": [
       "<div>\n",
       "<style scoped>\n",
       "    .dataframe tbody tr th:only-of-type {\n",
       "        vertical-align: middle;\n",
       "    }\n",
       "\n",
       "    .dataframe tbody tr th {\n",
       "        vertical-align: top;\n",
       "    }\n",
       "\n",
       "    .dataframe thead th {\n",
       "        text-align: right;\n",
       "    }\n",
       "</style>\n",
       "<table border=\"1\" class=\"dataframe\">\n",
       "  <thead>\n",
       "    <tr style=\"text-align: right;\">\n",
       "      <th></th>\n",
       "      <th>Number.of.Engines</th>\n",
       "      <th>Total.Fatal.Injuries</th>\n",
       "      <th>Total.Serious.Injuries</th>\n",
       "      <th>Total.Minor.Injuries</th>\n",
       "      <th>Total.Uninjured</th>\n",
       "    </tr>\n",
       "  </thead>\n",
       "  <tbody>\n",
       "    <tr>\n",
       "      <th>count</th>\n",
       "      <td>82805.000000</td>\n",
       "      <td>77488.000000</td>\n",
       "      <td>76379.000000</td>\n",
       "      <td>76956.000000</td>\n",
       "      <td>82977.000000</td>\n",
       "    </tr>\n",
       "    <tr>\n",
       "      <th>mean</th>\n",
       "      <td>1.146585</td>\n",
       "      <td>0.647855</td>\n",
       "      <td>0.279881</td>\n",
       "      <td>0.357061</td>\n",
       "      <td>5.325440</td>\n",
       "    </tr>\n",
       "    <tr>\n",
       "      <th>std</th>\n",
       "      <td>0.446510</td>\n",
       "      <td>5.485960</td>\n",
       "      <td>1.544084</td>\n",
       "      <td>2.235625</td>\n",
       "      <td>27.913634</td>\n",
       "    </tr>\n",
       "    <tr>\n",
       "      <th>min</th>\n",
       "      <td>0.000000</td>\n",
       "      <td>0.000000</td>\n",
       "      <td>0.000000</td>\n",
       "      <td>0.000000</td>\n",
       "      <td>0.000000</td>\n",
       "    </tr>\n",
       "    <tr>\n",
       "      <th>25%</th>\n",
       "      <td>1.000000</td>\n",
       "      <td>0.000000</td>\n",
       "      <td>0.000000</td>\n",
       "      <td>0.000000</td>\n",
       "      <td>0.000000</td>\n",
       "    </tr>\n",
       "    <tr>\n",
       "      <th>50%</th>\n",
       "      <td>1.000000</td>\n",
       "      <td>0.000000</td>\n",
       "      <td>0.000000</td>\n",
       "      <td>0.000000</td>\n",
       "      <td>1.000000</td>\n",
       "    </tr>\n",
       "    <tr>\n",
       "      <th>75%</th>\n",
       "      <td>1.000000</td>\n",
       "      <td>0.000000</td>\n",
       "      <td>0.000000</td>\n",
       "      <td>0.000000</td>\n",
       "      <td>2.000000</td>\n",
       "    </tr>\n",
       "    <tr>\n",
       "      <th>max</th>\n",
       "      <td>8.000000</td>\n",
       "      <td>349.000000</td>\n",
       "      <td>161.000000</td>\n",
       "      <td>380.000000</td>\n",
       "      <td>699.000000</td>\n",
       "    </tr>\n",
       "  </tbody>\n",
       "</table>\n",
       "</div>"
      ],
      "text/plain": [
       "       Number.of.Engines  Total.Fatal.Injuries  Total.Serious.Injuries  \\\n",
       "count       82805.000000          77488.000000            76379.000000   \n",
       "mean            1.146585              0.647855                0.279881   \n",
       "std             0.446510              5.485960                1.544084   \n",
       "min             0.000000              0.000000                0.000000   \n",
       "25%             1.000000              0.000000                0.000000   \n",
       "50%             1.000000              0.000000                0.000000   \n",
       "75%             1.000000              0.000000                0.000000   \n",
       "max             8.000000            349.000000              161.000000   \n",
       "\n",
       "       Total.Minor.Injuries  Total.Uninjured  \n",
       "count          76956.000000     82977.000000  \n",
       "mean               0.357061         5.325440  \n",
       "std                2.235625        27.913634  \n",
       "min                0.000000         0.000000  \n",
       "25%                0.000000         0.000000  \n",
       "50%                0.000000         1.000000  \n",
       "75%                0.000000         2.000000  \n",
       "max              380.000000       699.000000  "
      ]
     },
     "execution_count": 5,
     "metadata": {},
     "output_type": "execute_result"
    }
   ],
   "source": [
    "df.describe()"
   ]
  },
  {
   "cell_type": "markdown",
   "id": "12cb87b9",
   "metadata": {},
   "source": [
    "### Preparing the Data \n",
    "\n",
    "Finding useful information about the Dataset like the field names"
   ]
  },
  {
   "cell_type": "code",
   "execution_count": 6,
   "id": "d40f58b7",
   "metadata": {},
   "outputs": [
    {
     "data": {
      "text/plain": [
       "Event.Id                  False\n",
       "Investigation.Type        False\n",
       "Accident.Number           False\n",
       "Event.Date                False\n",
       "Location                   True\n",
       "Country                    True\n",
       "Latitude                   True\n",
       "Longitude                  True\n",
       "Airport.Code               True\n",
       "Airport.Name               True\n",
       "Injury.Severity            True\n",
       "Aircraft.damage            True\n",
       "Aircraft.Category          True\n",
       "Registration.Number        True\n",
       "Make                       True\n",
       "Model                      True\n",
       "Amateur.Built              True\n",
       "Number.of.Engines          True\n",
       "Engine.Type                True\n",
       "FAR.Description            True\n",
       "Schedule                   True\n",
       "Purpose.of.flight          True\n",
       "Air.carrier                True\n",
       "Total.Fatal.Injuries       True\n",
       "Total.Serious.Injuries     True\n",
       "Total.Minor.Injuries       True\n",
       "Total.Uninjured            True\n",
       "Weather.Condition          True\n",
       "Broad.phase.of.flight      True\n",
       "Report.Status              True\n",
       "Publication.Date           True\n",
       "dtype: bool"
      ]
     },
     "execution_count": 6,
     "metadata": {},
     "output_type": "execute_result"
    }
   ],
   "source": [
    "# performing some investigation\n",
    "# Checking to see if there are any null Values\n",
    "df.info\n",
    "df.isnull().any()"
   ]
  },
  {
   "cell_type": "markdown",
   "id": "e26ddc3b",
   "metadata": {},
   "source": [
    "###  Which fields have missing data?\n",
    "\n",
    "#### How much of each column is missing"
   ]
  },
  {
   "cell_type": "code",
   "execution_count": 7,
   "id": "c27d9c83",
   "metadata": {},
   "outputs": [
    {
     "data": {
      "text/plain": [
       "Event.Id                   0.000000\n",
       "Investigation.Type         0.000000\n",
       "Accident.Number            0.000000\n",
       "Event.Date                 0.000000\n",
       "Location                   0.058500\n",
       "Country                    0.254250\n",
       "Latitude                  61.320298\n",
       "Longitude                 61.330423\n",
       "Airport.Code              43.601570\n",
       "Airport.Name              40.708074\n",
       "Injury.Severity            1.124999\n",
       "Aircraft.damage            3.593246\n",
       "Aircraft.Category         63.677170\n",
       "Registration.Number        1.554748\n",
       "Make                       0.070875\n",
       "Model                      0.103500\n",
       "Amateur.Built              0.114750\n",
       "Number.of.Engines          6.844491\n",
       "Engine.Type                7.982990\n",
       "FAR.Description           63.974170\n",
       "Schedule                  85.845268\n",
       "Purpose.of.flight          6.965991\n",
       "Air.carrier               81.271023\n",
       "Total.Fatal.Injuries      12.826109\n",
       "Total.Serious.Injuries    14.073732\n",
       "Total.Minor.Injuries      13.424608\n",
       "Total.Uninjured            6.650992\n",
       "Weather.Condition          5.053494\n",
       "Broad.phase.of.flight     30.560587\n",
       "Report.Status              7.181991\n",
       "Publication.Date          15.492356\n",
       "dtype: float64"
      ]
     },
     "execution_count": 7,
     "metadata": {},
     "output_type": "execute_result"
    }
   ],
   "source": [
    "# Finding how much of the columns are Null values\n",
    "df.isna().mean() *100\n"
   ]
  },
  {
   "cell_type": "markdown",
   "id": "23f61fc2",
   "metadata": {},
   "source": [
    "###  Handling missing Data(null Values)\n",
    "There are many columns which are not important for analysis and some which are not  useful because of large volumes missing data\n",
    "I will be dropping columns that have roughly more than 50% of their data missing and those that have very large significant data missing\n",
    "'Latitude', 'Longitude', 'Airport.Code', 'Airport.Name', 'Aircraft.Category', 'FAR.Description',\n",
    "                   'Schedule', 'Air.carrier', 'Broad.phase.of.flight'"
   ]
  },
  {
   "cell_type": "code",
   "execution_count": 8,
   "id": "8ca23a9f",
   "metadata": {},
   "outputs": [],
   "source": [
    "cols_drop =['Latitude', 'Longitude', 'Airport.Code', 'Airport.Name', 'Aircraft.Category', 'FAR.Description',\n",
    "                   'Schedule', 'Air.carrier', 'Broad.phase.of.flight' ]\n",
    "\n",
    "\n",
    "df =df.drop(columns=cols_drop)"
   ]
  },
  {
   "cell_type": "code",
   "execution_count": 9,
   "id": "be1e7fcc",
   "metadata": {},
   "outputs": [],
   "source": [
    "\n",
    "df = df.drop(columns=['Publication.Date'])"
   ]
  },
  {
   "cell_type": "code",
   "execution_count": 10,
   "id": "f3dd4ecc",
   "metadata": {},
   "outputs": [
    {
     "data": {
      "text/html": [
       "<div>\n",
       "<style scoped>\n",
       "    .dataframe tbody tr th:only-of-type {\n",
       "        vertical-align: middle;\n",
       "    }\n",
       "\n",
       "    .dataframe tbody tr th {\n",
       "        vertical-align: top;\n",
       "    }\n",
       "\n",
       "    .dataframe thead th {\n",
       "        text-align: right;\n",
       "    }\n",
       "</style>\n",
       "<table border=\"1\" class=\"dataframe\">\n",
       "  <thead>\n",
       "    <tr style=\"text-align: right;\">\n",
       "      <th></th>\n",
       "      <th>Event.Id</th>\n",
       "      <th>Investigation.Type</th>\n",
       "      <th>Accident.Number</th>\n",
       "      <th>Event.Date</th>\n",
       "      <th>Location</th>\n",
       "      <th>Country</th>\n",
       "      <th>Injury.Severity</th>\n",
       "      <th>Aircraft.damage</th>\n",
       "      <th>Registration.Number</th>\n",
       "      <th>Make</th>\n",
       "      <th>...</th>\n",
       "      <th>Amateur.Built</th>\n",
       "      <th>Number.of.Engines</th>\n",
       "      <th>Engine.Type</th>\n",
       "      <th>Purpose.of.flight</th>\n",
       "      <th>Total.Fatal.Injuries</th>\n",
       "      <th>Total.Serious.Injuries</th>\n",
       "      <th>Total.Minor.Injuries</th>\n",
       "      <th>Total.Uninjured</th>\n",
       "      <th>Weather.Condition</th>\n",
       "      <th>Report.Status</th>\n",
       "    </tr>\n",
       "  </thead>\n",
       "  <tbody>\n",
       "    <tr>\n",
       "      <th>0</th>\n",
       "      <td>20001218X45444</td>\n",
       "      <td>Accident</td>\n",
       "      <td>SEA87LA080</td>\n",
       "      <td>1948-10-24</td>\n",
       "      <td>MOOSE CREEK, ID</td>\n",
       "      <td>United States</td>\n",
       "      <td>Fatal(2)</td>\n",
       "      <td>Destroyed</td>\n",
       "      <td>NC6404</td>\n",
       "      <td>Stinson</td>\n",
       "      <td>...</td>\n",
       "      <td>No</td>\n",
       "      <td>1.0</td>\n",
       "      <td>Reciprocating</td>\n",
       "      <td>Personal</td>\n",
       "      <td>2.0</td>\n",
       "      <td>0.0</td>\n",
       "      <td>0.0</td>\n",
       "      <td>0.0</td>\n",
       "      <td>UNK</td>\n",
       "      <td>Probable Cause</td>\n",
       "    </tr>\n",
       "    <tr>\n",
       "      <th>1</th>\n",
       "      <td>20001218X45447</td>\n",
       "      <td>Accident</td>\n",
       "      <td>LAX94LA336</td>\n",
       "      <td>1962-07-19</td>\n",
       "      <td>BRIDGEPORT, CA</td>\n",
       "      <td>United States</td>\n",
       "      <td>Fatal(4)</td>\n",
       "      <td>Destroyed</td>\n",
       "      <td>N5069P</td>\n",
       "      <td>Piper</td>\n",
       "      <td>...</td>\n",
       "      <td>No</td>\n",
       "      <td>1.0</td>\n",
       "      <td>Reciprocating</td>\n",
       "      <td>Personal</td>\n",
       "      <td>4.0</td>\n",
       "      <td>0.0</td>\n",
       "      <td>0.0</td>\n",
       "      <td>0.0</td>\n",
       "      <td>UNK</td>\n",
       "      <td>Probable Cause</td>\n",
       "    </tr>\n",
       "  </tbody>\n",
       "</table>\n",
       "<p>2 rows × 21 columns</p>\n",
       "</div>"
      ],
      "text/plain": [
       "         Event.Id Investigation.Type Accident.Number  Event.Date  \\\n",
       "0  20001218X45444           Accident      SEA87LA080  1948-10-24   \n",
       "1  20001218X45447           Accident      LAX94LA336  1962-07-19   \n",
       "\n",
       "          Location        Country Injury.Severity Aircraft.damage  \\\n",
       "0  MOOSE CREEK, ID  United States        Fatal(2)       Destroyed   \n",
       "1   BRIDGEPORT, CA  United States        Fatal(4)       Destroyed   \n",
       "\n",
       "  Registration.Number     Make  ... Amateur.Built Number.of.Engines  \\\n",
       "0              NC6404  Stinson  ...            No               1.0   \n",
       "1              N5069P    Piper  ...            No               1.0   \n",
       "\n",
       "     Engine.Type Purpose.of.flight Total.Fatal.Injuries  \\\n",
       "0  Reciprocating          Personal                  2.0   \n",
       "1  Reciprocating          Personal                  4.0   \n",
       "\n",
       "   Total.Serious.Injuries  Total.Minor.Injuries  Total.Uninjured  \\\n",
       "0                     0.0                   0.0              0.0   \n",
       "1                     0.0                   0.0              0.0   \n",
       "\n",
       "   Weather.Condition   Report.Status  \n",
       "0                UNK  Probable Cause  \n",
       "1                UNK  Probable Cause  \n",
       "\n",
       "[2 rows x 21 columns]"
      ]
     },
     "execution_count": 10,
     "metadata": {},
     "output_type": "execute_result"
    }
   ],
   "source": [
    "# previewing the Data set with less columns\n",
    "df.head(2)"
   ]
  },
  {
   "cell_type": "markdown",
   "id": "3992df47",
   "metadata": {},
   "source": [
    "There are more columns containing irrelevant information to my Analysis such as\n",
    "'Accident.Number', 'Registration.Number', 'Report.Status' for easier handling od Data it'll be worth while to drop them\n"
   ]
  },
  {
   "cell_type": "code",
   "execution_count": 11,
   "id": "c36d8362",
   "metadata": {},
   "outputs": [],
   "source": [
    "more_cols_drop =['Accident.Number', 'Registration.Number', 'Report.Status']\n",
    "df = df.drop(columns=more_cols_drop)"
   ]
  },
  {
   "cell_type": "markdown",
   "id": "c604e57f",
   "metadata": {},
   "source": [
    " With the dropped columns we can see an improvement this reduction in missing data suggests improved data completeness, which can enhance the reliability of the analysis \n",
    "\n",
    "\n",
    "\n",
    "\n",
    "\n"
   ]
  },
  {
   "cell_type": "markdown",
   "id": "851b92e4",
   "metadata": {},
   "source": [
    "### Replacing the Missing values on the columns with Categorical Data with it's Mode \n",
    "Finding the Mode of columns with categorical data so as to replace the missing values to create a more balanced Dataset for example for Number.of.Engines,i filled missing data with 1 (the majority of airplanes have only one engine)"
   ]
  },
  {
   "cell_type": "code",
   "execution_count": 12,
   "id": "407a369a",
   "metadata": {},
   "outputs": [],
   "source": [
    "# Assigning the modes of these columns to Variables\n",
    "Injury_severity_mode = df[\"Injury.Severity\"].mode()[0]\n",
    "Aircraft_Damage_mode = df[\"Aircraft.damage\"].mode()[0]\n",
    "Amateur_Built_mode = df[\"Amateur.Built\"].mode() [0]\n",
    "Engine_Type_mode = df[\"Engine.Type\"].mode() [0]\n",
    "Number_of_engines_mode =df['Number.of.Engines'].mode()[0]\n",
    "Purpose_of_flight_mode = df['Purpose.of.flight'].mode()[0]\n",
    "\n",
    "#Replacing missing values with Mode\n",
    "df[\"Injury.Severity\"].fillna(Injury_severity_mode, inplace=True)\n",
    "df[\"Aircraft.damage\"].fillna(Aircraft_Damage_mode, inplace=True)\n",
    "df[\"Amateur.Built\"].fillna(Amateur_Built_mode, inplace=True)\n",
    "df[\"Engine.Type\"].fillna(Engine_Type_mode, inplace=True)\n",
    "df[\"Number.of.Engines\"].fillna(Number_of_engines_mode, inplace=True)\n",
    "df[\"Purpose.of.flight\"].fillna(Purpose_of_flight_mode, inplace=True)\n",
    "\n"
   ]
  },
  {
   "cell_type": "code",
   "execution_count": 13,
   "id": "126f0aa5",
   "metadata": {},
   "outputs": [],
   "source": [
    "\n",
    "# ALternattively choosing to use a function to excecute the replacement of missing values with  the mode\n",
    "def replace_missing_with_mode(df, columns):\n",
    "    \"\"\"\n",
    "    Fill missing values in specified columns of a DataFrame with their respective mode.\n",
    "    Parameters: - df (DataFrame): The input DataFrame.\n",
    "                - columns (list): A list of column names in which missing values should be filled with mode.\n",
    "    Returns: - DataFrame: A new DataFrame with missing values filled with mode in specified columns.\n",
    "    \"\"\"\n",
    "    for col in columns:\n",
    "        mode_value = df[col].mode()[0]\n",
    "        df[col].fillna(mode_value, inplace=True)\n",
    "        #print(f\"Filled missing values in '{col}' with mode: {mode_value}\")\n",
    "    return df\n"
   ]
  },
  {
   "cell_type": "markdown",
   "id": "64d9adfb",
   "metadata": {},
   "source": [
    "This reusable function can be passed on new columns on the Data set which would require the aspect of replacing Missing values with the mode"
   ]
  },
  {
   "cell_type": "code",
   "execution_count": 14,
   "id": "44ea1165",
   "metadata": {},
   "outputs": [
    {
     "data": {
      "text/plain": [
       "Event.Id                   0.000000\n",
       "Investigation.Type         0.000000\n",
       "Event.Date                 0.000000\n",
       "Location                   0.058500\n",
       "Country                    0.254250\n",
       "Injury.Severity            0.000000\n",
       "Aircraft.damage            0.000000\n",
       "Make                       0.070875\n",
       "Model                      0.103500\n",
       "Amateur.Built              0.000000\n",
       "Number.of.Engines          0.000000\n",
       "Engine.Type                0.000000\n",
       "Purpose.of.flight          0.000000\n",
       "Total.Fatal.Injuries      12.826109\n",
       "Total.Serious.Injuries    14.073732\n",
       "Total.Minor.Injuries      13.424608\n",
       "Total.Uninjured            6.650992\n",
       "Weather.Condition          5.053494\n",
       "dtype: float64"
      ]
     },
     "execution_count": 14,
     "metadata": {},
     "output_type": "execute_result"
    }
   ],
   "source": [
    "# using the function place_missing_with_mode()\n",
    "df = replace_missing_with_mode(df,[\"Injury.Severity\", \"Aircraft.damage\", \"Amateur.Built\", \"Engine.Type\", \"Number.of.Engines\", \"Purpose.of.flight\"])\n",
    "df.isnull().mean( )*100\n"
   ]
  },
  {
   "cell_type": "markdown",
   "id": "fe8c72fc",
   "metadata": {},
   "source": [
    "### Dropping Rows\n",
    "The columns where the Missing Data is close to none or negligible ive opted to drop the rows as this wouldnt affect the quality and integrity of the Dataset"
   ]
  },
  {
   "cell_type": "code",
   "execution_count": 15,
   "id": "b2907904",
   "metadata": {},
   "outputs": [],
   "source": [
    "# Drop rows with missing data in various columns\n",
    "df.dropna(subset=['Make'], inplace=True)\n",
    "df.dropna(subset=['Model'], inplace=True)\n",
    "df.dropna(subset=['Location'], inplace=True)\n",
    "df.dropna(subset=['Country'], inplace=True)\n",
    "df.dropna(subset=['Weather.Condition'],inplace=True)"
   ]
  },
  {
   "cell_type": "code",
   "execution_count": 16,
   "id": "21d47d5d",
   "metadata": {},
   "outputs": [],
   "source": [
    "# Alternatively i also chose to define a function to Drop the rows\n",
    "def drop_missing_data_rows(df, columns):\n",
    "    \"\"\"\n",
    "    Drops rows with missing data in the specified columns.\n",
    "    Parameters: -df (pd.DataFrame): The input DataFrame.\n",
    "                -columns (list): A list of column names to check for missing data.\n",
    "    Returns: --pd.DataFrame: The DataFrame with rows containing missing data in the specified columns dropped.\n",
    "    \"\"\"\n",
    "    for column in columns:\n",
    "        df.dropna(subset=[column], inplace=True)\n",
    "    return df\n"
   ]
  },
  {
   "cell_type": "markdown",
   "id": "ab4af13e",
   "metadata": {},
   "source": [
    "This function is reusable and  can be passed on new columns on the Data set which would require the aspect of dropping the rows which have Missing values with the mode"
   ]
  },
  {
   "cell_type": "code",
   "execution_count": 17,
   "id": "723f3ea8",
   "metadata": {},
   "outputs": [
    {
     "data": {
      "text/plain": [
       "Event.Id                   0.000000\n",
       "Investigation.Type         0.000000\n",
       "Event.Date                 0.000000\n",
       "Location                   0.000000\n",
       "Country                    0.000000\n",
       "Injury.Severity            0.000000\n",
       "Aircraft.damage            0.000000\n",
       "Make                       0.000000\n",
       "Model                      0.000000\n",
       "Amateur.Built              0.000000\n",
       "Number.of.Engines          0.000000\n",
       "Engine.Type                0.000000\n",
       "Purpose.of.flight          0.000000\n",
       "Total.Fatal.Injuries      13.161494\n",
       "Total.Serious.Injuries    14.322418\n",
       "Total.Minor.Injuries      13.609925\n",
       "Total.Uninjured            6.612268\n",
       "Weather.Condition          0.000000\n",
       "dtype: float64"
      ]
     },
     "execution_count": 17,
     "metadata": {},
     "output_type": "execute_result"
    }
   ],
   "source": [
    "\n",
    "#Using the function\n",
    "df = drop_missing_data_rows(df,['Make', 'Model', 'Location', 'Country', 'Weather.Condition'])\n",
    "df.isnull().mean() * 100"
   ]
  },
  {
   "cell_type": "markdown",
   "id": "2c82abf1",
   "metadata": {},
   "source": [
    "For Fatal.Injuries, Serious.Injuries, Minor.Injuries, Uninjured, fill missing data with 0. "
   ]
  },
  {
   "cell_type": "code",
   "execution_count": 18,
   "id": "0c507652",
   "metadata": {},
   "outputs": [],
   "source": [
    "# filling missing data with 0 for Fatal.Injuries, Serious.Injuries, Minor.Injuries, Uninjured\n",
    "df.fillna(value={'Total.Fatal.Injuries': 0,\n",
    "                'Total.Serious.Injuries': 0,\n",
    "                'Total.Minor.Injuries': 0,\n",
    "                'Total.Uninjured': 0,} , \n",
    "          inplace = True)"
   ]
  },
  {
   "cell_type": "code",
   "execution_count": 19,
   "id": "ad0756ac",
   "metadata": {},
   "outputs": [
    {
     "data": {
      "text/plain": [
       "Event.Id                  0.0\n",
       "Investigation.Type        0.0\n",
       "Event.Date                0.0\n",
       "Location                  0.0\n",
       "Country                   0.0\n",
       "Injury.Severity           0.0\n",
       "Aircraft.damage           0.0\n",
       "Make                      0.0\n",
       "Model                     0.0\n",
       "Amateur.Built             0.0\n",
       "Number.of.Engines         0.0\n",
       "Engine.Type               0.0\n",
       "Purpose.of.flight         0.0\n",
       "Total.Fatal.Injuries      0.0\n",
       "Total.Serious.Injuries    0.0\n",
       "Total.Minor.Injuries      0.0\n",
       "Total.Uninjured           0.0\n",
       "Weather.Condition         0.0\n",
       "dtype: float64"
      ]
     },
     "execution_count": 19,
     "metadata": {},
     "output_type": "execute_result"
    }
   ],
   "source": [
    "df.isnull().mean() *100"
   ]
  },
  {
   "cell_type": "markdown",
   "id": "86657fae",
   "metadata": {},
   "source": [
    "The amount of missing Values has been greatly removed from the Dataset therefore it is more balanced and our Dataset is free from Missing values lets once again run Diagnostics to see if there are structural issues\n",
    "\n"
   ]
  },
  {
   "cell_type": "code",
   "execution_count": 20,
   "id": "4cf03367",
   "metadata": {},
   "outputs": [
    {
     "name": "stdout",
     "output_type": "stream",
     "text": [
      "<class 'pandas.core.frame.DataFrame'>\n",
      "Index: 84071 entries, 0 to 88886\n",
      "Data columns (total 18 columns):\n",
      " #   Column                  Non-Null Count  Dtype  \n",
      "---  ------                  --------------  -----  \n",
      " 0   Event.Id                84071 non-null  object \n",
      " 1   Investigation.Type      84071 non-null  object \n",
      " 2   Event.Date              84071 non-null  object \n",
      " 3   Location                84071 non-null  object \n",
      " 4   Country                 84071 non-null  object \n",
      " 5   Injury.Severity         84071 non-null  object \n",
      " 6   Aircraft.damage         84071 non-null  object \n",
      " 7   Make                    84071 non-null  object \n",
      " 8   Model                   84071 non-null  object \n",
      " 9   Amateur.Built           84071 non-null  object \n",
      " 10  Number.of.Engines       84071 non-null  float64\n",
      " 11  Engine.Type             84071 non-null  object \n",
      " 12  Purpose.of.flight       84071 non-null  object \n",
      " 13  Total.Fatal.Injuries    84071 non-null  float64\n",
      " 14  Total.Serious.Injuries  84071 non-null  float64\n",
      " 15  Total.Minor.Injuries    84071 non-null  float64\n",
      " 16  Total.Uninjured         84071 non-null  float64\n",
      " 17  Weather.Condition       84071 non-null  object \n",
      "dtypes: float64(5), object(13)\n",
      "memory usage: 12.2+ MB\n"
     ]
    },
    {
     "data": {
      "text/plain": [
       "(84071, 18)"
      ]
     },
     "execution_count": 20,
     "metadata": {},
     "output_type": "execute_result"
    }
   ],
   "source": [
    "# Checking once again the shape of the Data set and the information to see if there any structural issues\n",
    "df.info()\n",
    "df.shape"
   ]
  },
  {
   "cell_type": "markdown",
   "id": "4b0f19e9",
   "metadata": {},
   "source": [
    "### Checking for Duplicates\n",
    "Duplicated data might prove challenging to deal with in the future and may cause inaccuracies while analysing an forming insights on the Data in the future therefore we have to check and remove duplicated information"
   ]
  },
  {
   "cell_type": "code",
   "execution_count": 21,
   "id": "c7e10690",
   "metadata": {},
   "outputs": [
    {
     "name": "stdout",
     "output_type": "stream",
     "text": [
      "DataFrame has duplicates: True\n"
     ]
    }
   ],
   "source": [
    "# checking for duplicated Data using duplicated() function\n",
    "duplicates = df.duplicated()\n",
    "if_duplicates = duplicates.any()\n",
    "print(f\"DataFrame has duplicates: {if_duplicates}\")#Returns boolean value of whether df has duplicates"
   ]
  },
  {
   "cell_type": "markdown",
   "id": "13c0336e",
   "metadata": {},
   "source": [
    "Showing the number of the duplicated values\n",
    "\n"
   ]
  },
  {
   "cell_type": "code",
   "execution_count": 22,
   "id": "7ea5140b",
   "metadata": {},
   "outputs": [
    {
     "data": {
      "text/plain": [
       "False    84033\n",
       "True        38\n",
       "Name: count, dtype: int64"
      ]
     },
     "execution_count": 22,
     "metadata": {},
     "output_type": "execute_result"
    }
   ],
   "source": [
    "# Calculating the sum of the Duplicated Values\n",
    "num_duplicates = duplicates.value_counts()\n",
    "num_duplicates"
   ]
  },
  {
   "cell_type": "markdown",
   "id": "240aa02d",
   "metadata": {},
   "source": [
    "Checking to see if duplicates are in individual column or if they are in each column\n"
   ]
  },
  {
   "cell_type": "code",
   "execution_count": 23,
   "id": "cb3cfc0b",
   "metadata": {},
   "outputs": [
    {
     "name": "stdout",
     "output_type": "stream",
     "text": [
      "Event.Id                  38\n",
      "Investigation.Type        38\n",
      "Event.Date                38\n",
      "Location                  38\n",
      "Country                   38\n",
      "Injury.Severity           38\n",
      "Aircraft.damage           38\n",
      "Make                      38\n",
      "Model                     38\n",
      "Amateur.Built             38\n",
      "Number.of.Engines         38\n",
      "Engine.Type               38\n",
      "Purpose.of.flight         38\n",
      "Total.Fatal.Injuries      38\n",
      "Total.Serious.Injuries    38\n",
      "Total.Minor.Injuries      38\n",
      "Total.Uninjured           38\n",
      "Weather.Condition         38\n",
      "dtype: int64\n"
     ]
    }
   ],
   "source": [
    "# Finding count of Duplicates on each column\n",
    "duplicate_rows = df[df.duplicated()]\n",
    "print(duplicate_rows.count())"
   ]
  },
  {
   "cell_type": "markdown",
   "id": "bca1b1ea",
   "metadata": {},
   "source": [
    "Dropping the Duplicates and previewing the Data"
   ]
  },
  {
   "cell_type": "code",
   "execution_count": 24,
   "id": "dc999655",
   "metadata": {},
   "outputs": [
    {
     "data": {
      "text/plain": [
       "(84033, 18)"
      ]
     },
     "execution_count": 24,
     "metadata": {},
     "output_type": "execute_result"
    }
   ],
   "source": [
    "# Dropping Duplicates\n",
    "df.drop_duplicates(inplace=True)\n",
    "# Reset index after dropping duplicates\n",
    "df.reset_index(drop=True, inplace=True)\n",
    "df.shape\n"
   ]
  },
  {
   "cell_type": "code",
   "execution_count": 25,
   "id": "b51d2329",
   "metadata": {},
   "outputs": [
    {
     "data": {
      "text/plain": [
       "Event.Id\n",
       "False    83158\n",
       "True       875\n",
       "Name: count, dtype: int64"
      ]
     },
     "execution_count": 25,
     "metadata": {},
     "output_type": "execute_result"
    }
   ],
   "source": [
    "x = df.copy()\n",
    "#x = x.drop_duplicates(subset=[\"Event.Id\"]).reset_index(drop=True)\n",
    "x[\"Event.Id\"].duplicated().value_counts()\n"
   ]
  },
  {
   "cell_type": "markdown",
   "id": "279cda51",
   "metadata": {},
   "source": [
    "\n",
    " ## 4.Exploratory Data Analysis and Visualisation "
   ]
  },
  {
   "cell_type": "markdown",
   "id": "bf72dea5",
   "metadata": {},
   "source": [
    "### Country Counts\n",
    "Listing the number of entries for eeach country in the dataset could prove insightful\n"
   ]
  },
  {
   "cell_type": "code",
   "execution_count": 26,
   "id": "5a74786d",
   "metadata": {},
   "outputs": [
    {
     "data": {
      "text/plain": [
       "Country\n",
       "United States    81509\n",
       "Bahamas            195\n",
       "Mexico             162\n",
       "Canada             138\n",
       "Brazil             110\n",
       "                 ...  \n",
       "Scotland             1\n",
       "BLOCK 651A           1\n",
       "Morocco              1\n",
       "Jordan               1\n",
       "Côte d'Ivoire        1\n",
       "Name: count, Length: 181, dtype: int64"
      ]
     },
     "execution_count": 26,
     "metadata": {},
     "output_type": "execute_result"
    }
   ],
   "source": [
    "df['Country'].value_counts()"
   ]
  },
  {
   "cell_type": "code",
   "execution_count": 27,
   "id": "bb2438ef",
   "metadata": {},
   "outputs": [
    {
     "data": {
      "text/plain": [
       "<Figure size 600x400 with 0 Axes>"
      ]
     },
     "execution_count": 27,
     "metadata": {},
     "output_type": "execute_result"
    },
    {
     "data": {
      "image/png": "[encoded data removed]",
      "text/plain": [
       "<Figure size 640x480 with 1 Axes>"
      ]
     },
     "metadata": {},
     "output_type": "display_data"
    },
    {
     "data": {
      "text/plain": [
       "<Figure size 600x400 with 0 Axes>"
      ]
     },
     "metadata": {},
     "output_type": "display_data"
    }
   ],
   "source": [
    "#plotting a simple bar graph to show the first 10 countries with the most entries\n",
    "Country = df['Country'].value_counts(normalize=True, dropna=False)[:10]*100\n",
    "Country.plot(kind=\"bar\");\n",
    "plt.figure(figsize=(6,4))\n",
    "\n",
    "\n"
   ]
  },
  {
   "cell_type": "markdown",
   "id": "9dc3db79",
   "metadata": {},
   "source": [
    "Based of of the plot we can see the dataset primarily contains data from the United States, which makes up more than 90% of the entries. Other significant countries represented include Canada, Brazil, the United Kingdom, and Mexico. Given the predominance of U.S. data, we'll narrow our focus to U.S. accidents involving at least one fatality, starting from January 1982, as data prior to this date is incomplete."
   ]
  },
  {
   "cell_type": "markdown",
   "id": "5eb14788",
   "metadata": {},
   "source": [
    "### Converting the event Date to an appropriate Format"
   ]
  },
  {
   "cell_type": "code",
   "execution_count": 28,
   "id": "3f870c25",
   "metadata": {},
   "outputs": [],
   "source": [
    "#Convert 'Event.Date' to datetime\n",
    "df['Date'] = pd.to_datetime(df['Event.Date'])\n",
    "#Drop 'Event.Date' column\n",
    "df.drop('Event.Date', axis=1, inplace=True)\n",
    "#Filtering for fatal cases and a time period starting in 1985\n",
    "# Selecting only the united states \n",
    "df_fatal_cases = df.loc[(df['Total.Fatal.Injuries']>0) &\n",
    "           (df['Date']>='1985-01') &\n",
    "           (df['Country'] == 'United States'),\n",
    "            :]"
   ]
  },
  {
   "cell_type": "code",
   "execution_count": 29,
   "id": "d299f5f4",
   "metadata": {},
   "outputs": [
    {
     "data": {
      "text/html": [
       "<div>\n",
       "<style scoped>\n",
       "    .dataframe tbody tr th:only-of-type {\n",
       "        vertical-align: middle;\n",
       "    }\n",
       "\n",
       "    .dataframe tbody tr th {\n",
       "        vertical-align: top;\n",
       "    }\n",
       "\n",
       "    .dataframe thead th {\n",
       "        text-align: right;\n",
       "    }\n",
       "</style>\n",
       "<table border=\"1\" class=\"dataframe\">\n",
       "  <thead>\n",
       "    <tr style=\"text-align: right;\">\n",
       "      <th></th>\n",
       "      <th>Number.of.Engines</th>\n",
       "      <th>Total.Fatal.Injuries</th>\n",
       "      <th>Total.Serious.Injuries</th>\n",
       "      <th>Total.Minor.Injuries</th>\n",
       "      <th>Total.Uninjured</th>\n",
       "      <th>Date</th>\n",
       "    </tr>\n",
       "  </thead>\n",
       "  <tbody>\n",
       "    <tr>\n",
       "      <th>count</th>\n",
       "      <td>12979.000000</td>\n",
       "      <td>12979.000000</td>\n",
       "      <td>12979.000000</td>\n",
       "      <td>12979.000000</td>\n",
       "      <td>12979.000000</td>\n",
       "      <td>12979</td>\n",
       "    </tr>\n",
       "    <tr>\n",
       "      <th>mean</th>\n",
       "      <td>1.164265</td>\n",
       "      <td>1.977425</td>\n",
       "      <td>0.203637</td>\n",
       "      <td>0.155636</td>\n",
       "      <td>0.356114</td>\n",
       "      <td>2000-08-19 08:52:53.125818752</td>\n",
       "    </tr>\n",
       "    <tr>\n",
       "      <th>min</th>\n",
       "      <td>0.000000</td>\n",
       "      <td>1.000000</td>\n",
       "      <td>0.000000</td>\n",
       "      <td>0.000000</td>\n",
       "      <td>0.000000</td>\n",
       "      <td>1985-01-01 00:00:00</td>\n",
       "    </tr>\n",
       "    <tr>\n",
       "      <th>25%</th>\n",
       "      <td>1.000000</td>\n",
       "      <td>1.000000</td>\n",
       "      <td>0.000000</td>\n",
       "      <td>0.000000</td>\n",
       "      <td>0.000000</td>\n",
       "      <td>1991-06-18 00:00:00</td>\n",
       "    </tr>\n",
       "    <tr>\n",
       "      <th>50%</th>\n",
       "      <td>1.000000</td>\n",
       "      <td>1.000000</td>\n",
       "      <td>0.000000</td>\n",
       "      <td>0.000000</td>\n",
       "      <td>0.000000</td>\n",
       "      <td>1999-04-22 00:00:00</td>\n",
       "    </tr>\n",
       "    <tr>\n",
       "      <th>75%</th>\n",
       "      <td>1.000000</td>\n",
       "      <td>2.000000</td>\n",
       "      <td>0.000000</td>\n",
       "      <td>0.000000</td>\n",
       "      <td>0.000000</td>\n",
       "      <td>2008-09-25 00:00:00</td>\n",
       "    </tr>\n",
       "    <tr>\n",
       "      <th>max</th>\n",
       "      <td>4.000000</td>\n",
       "      <td>265.000000</td>\n",
       "      <td>137.000000</td>\n",
       "      <td>125.000000</td>\n",
       "      <td>334.000000</td>\n",
       "      <td>2022-12-05 00:00:00</td>\n",
       "    </tr>\n",
       "    <tr>\n",
       "      <th>std</th>\n",
       "      <td>0.416543</td>\n",
       "      <td>5.005163</td>\n",
       "      <td>2.080125</td>\n",
       "      <td>1.969047</td>\n",
       "      <td>6.801197</td>\n",
       "      <td>NaN</td>\n",
       "    </tr>\n",
       "  </tbody>\n",
       "</table>\n",
       "</div>"
      ],
      "text/plain": [
       "       Number.of.Engines  Total.Fatal.Injuries  Total.Serious.Injuries  \\\n",
       "count       12979.000000          12979.000000            12979.000000   \n",
       "mean            1.164265              1.977425                0.203637   \n",
       "min             0.000000              1.000000                0.000000   \n",
       "25%             1.000000              1.000000                0.000000   \n",
       "50%             1.000000              1.000000                0.000000   \n",
       "75%             1.000000              2.000000                0.000000   \n",
       "max             4.000000            265.000000              137.000000   \n",
       "std             0.416543              5.005163                2.080125   \n",
       "\n",
       "       Total.Minor.Injuries  Total.Uninjured                           Date  \n",
       "count          12979.000000     12979.000000                          12979  \n",
       "mean               0.155636         0.356114  2000-08-19 08:52:53.125818752  \n",
       "min                0.000000         0.000000            1985-01-01 00:00:00  \n",
       "25%                0.000000         0.000000            1991-06-18 00:00:00  \n",
       "50%                0.000000         0.000000            1999-04-22 00:00:00  \n",
       "75%                0.000000         0.000000            2008-09-25 00:00:00  \n",
       "max              125.000000       334.000000            2022-12-05 00:00:00  \n",
       "std                1.969047         6.801197                            NaN  "
      ]
     },
     "execution_count": 29,
     "metadata": {},
     "output_type": "execute_result"
    }
   ],
   "source": [
    "df_fatal_cases.describe()"
   ]
  },
  {
   "cell_type": "markdown",
   "id": "ca8cc887",
   "metadata": {},
   "source": [
    "Lets define a useful function to make a bar plot so that we may get to explore some of the Data and that it may become easier for the handling of Data"
   ]
  },
  {
   "cell_type": "code",
   "execution_count": 30,
   "id": "484a2e31",
   "metadata": {},
   "outputs": [],
   "source": [
    "    \n",
    "def plot_value_counts_bar(series, title, xlabel, ylabel, topN=20, figsize=(8,6)):\n",
    "    \"\"\"\n",
    "    Count the number of occurrences of each unique value in theinput series.\n",
    "    Parameters:\n",
    "    series      : data series to make a plot on\n",
    "    title (str) : figure title\n",
    "    xlabel (str): figure x-axis label\n",
    "    ylabel (str): figure y-axis label\n",
    "    topN (int)  : number of top counts to plot\n",
    "    figsize (tuple of two integers): figure size width x height, default (8,6)\n",
    "    Returns:\n",
    "    Creates a bar plot\n",
    "    \"\"\"\n",
    "    plt.figure(figsize=figsize)\n",
    "    vals = series.value_counts(normalize=True, dropna=False)[:topN] * 100\n",
    "    \n",
    "    # Create a colormap with a distinct color for each bar\n",
    "    unique_colors = plt.cm.get_cmap('tab20', len(vals))\n",
    "    \n",
    "    # Plot with custom colors\n",
    "    bars = plt.bar(vals.index, vals.values, color=[unique_colors(i) for i in range(len(vals))])\n",
    "    \n",
    "    plt.grid(True)\n",
    "    plt.title(title)\n",
    "    plt.xlabel(xlabel)\n",
    "    plt.ylabel(ylabel)\n",
    "    \n",
    "    # Rotate x-axis labels for better readability\n",
    "    plt.xticks(rotation=75)\n",
    "    \n",
    "    plt.show()"
   ]
  },
  {
   "cell_type": "markdown",
   "id": "f4b79b69",
   "metadata": {},
   "source": [
    "Now after all the preparation we may attempt to formulate and answer some specific questions"
   ]
  },
  {
   "cell_type": "markdown",
   "id": "6589215b",
   "metadata": {},
   "source": [
    "## Analysis 1: Are airplanes more safe or less safe during the last few decades?\n",
    "Let us investigate the year to year Fatality rate by using pandas groupby( ) we can conjoin the Year together with the aggregates which are the sum and the counts of fatal injuries"
   ]
  },
  {
   "cell_type": "code",
   "execution_count": 31,
   "id": "7a85db1b",
   "metadata": {},
   "outputs": [
    {
     "data": {
      "text/html": [
       "<div>\n",
       "<style scoped>\n",
       "    .dataframe tbody tr th:only-of-type {\n",
       "        vertical-align: middle;\n",
       "    }\n",
       "\n",
       "    .dataframe tbody tr th {\n",
       "        vertical-align: top;\n",
       "    }\n",
       "\n",
       "    .dataframe thead th {\n",
       "        text-align: right;\n",
       "    }\n",
       "</style>\n",
       "<table border=\"1\" class=\"dataframe\">\n",
       "  <thead>\n",
       "    <tr style=\"text-align: right;\">\n",
       "      <th></th>\n",
       "      <th>count</th>\n",
       "      <th>sum</th>\n",
       "    </tr>\n",
       "    <tr>\n",
       "      <th>Date</th>\n",
       "      <th></th>\n",
       "      <th></th>\n",
       "    </tr>\n",
       "  </thead>\n",
       "  <tbody>\n",
       "    <tr>\n",
       "      <th>1985</th>\n",
       "      <td>558</td>\n",
       "      <td>1344.0</td>\n",
       "    </tr>\n",
       "    <tr>\n",
       "      <th>1986</th>\n",
       "      <td>514</td>\n",
       "      <td>1153.0</td>\n",
       "    </tr>\n",
       "    <tr>\n",
       "      <th>1987</th>\n",
       "      <td>491</td>\n",
       "      <td>1192.0</td>\n",
       "    </tr>\n",
       "    <tr>\n",
       "      <th>1988</th>\n",
       "      <td>493</td>\n",
       "      <td>892.0</td>\n",
       "    </tr>\n",
       "    <tr>\n",
       "      <th>1989</th>\n",
       "      <td>477</td>\n",
       "      <td>1057.0</td>\n",
       "    </tr>\n",
       "    <tr>\n",
       "      <th>1990</th>\n",
       "      <td>498</td>\n",
       "      <td>940.0</td>\n",
       "    </tr>\n",
       "    <tr>\n",
       "      <th>1991</th>\n",
       "      <td>477</td>\n",
       "      <td>1031.0</td>\n",
       "    </tr>\n",
       "    <tr>\n",
       "      <th>1992</th>\n",
       "      <td>483</td>\n",
       "      <td>972.0</td>\n",
       "    </tr>\n",
       "    <tr>\n",
       "      <th>1993</th>\n",
       "      <td>426</td>\n",
       "      <td>805.0</td>\n",
       "    </tr>\n",
       "    <tr>\n",
       "      <th>1994</th>\n",
       "      <td>438</td>\n",
       "      <td>1064.0</td>\n",
       "    </tr>\n",
       "    <tr>\n",
       "      <th>1995</th>\n",
       "      <td>431</td>\n",
       "      <td>776.0</td>\n",
       "    </tr>\n",
       "    <tr>\n",
       "      <th>1996</th>\n",
       "      <td>382</td>\n",
       "      <td>1021.0</td>\n",
       "    </tr>\n",
       "    <tr>\n",
       "      <th>1997</th>\n",
       "      <td>371</td>\n",
       "      <td>946.0</td>\n",
       "    </tr>\n",
       "    <tr>\n",
       "      <th>1998</th>\n",
       "      <td>383</td>\n",
       "      <td>647.0</td>\n",
       "    </tr>\n",
       "    <tr>\n",
       "      <th>1999</th>\n",
       "      <td>348</td>\n",
       "      <td>654.0</td>\n",
       "    </tr>\n",
       "    <tr>\n",
       "      <th>2000</th>\n",
       "      <td>370</td>\n",
       "      <td>753.0</td>\n",
       "    </tr>\n",
       "    <tr>\n",
       "      <th>2001</th>\n",
       "      <td>343</td>\n",
       "      <td>884.0</td>\n",
       "    </tr>\n",
       "    <tr>\n",
       "      <th>2002</th>\n",
       "      <td>359</td>\n",
       "      <td>597.0</td>\n",
       "    </tr>\n",
       "    <tr>\n",
       "      <th>2003</th>\n",
       "      <td>371</td>\n",
       "      <td>697.0</td>\n",
       "    </tr>\n",
       "    <tr>\n",
       "      <th>2004</th>\n",
       "      <td>346</td>\n",
       "      <td>618.0</td>\n",
       "    </tr>\n",
       "    <tr>\n",
       "      <th>2005</th>\n",
       "      <td>334</td>\n",
       "      <td>581.0</td>\n",
       "    </tr>\n",
       "    <tr>\n",
       "      <th>2006</th>\n",
       "      <td>321</td>\n",
       "      <td>622.0</td>\n",
       "    </tr>\n",
       "    <tr>\n",
       "      <th>2007</th>\n",
       "      <td>301</td>\n",
       "      <td>532.0</td>\n",
       "    </tr>\n",
       "    <tr>\n",
       "      <th>2008</th>\n",
       "      <td>279</td>\n",
       "      <td>518.0</td>\n",
       "    </tr>\n",
       "    <tr>\n",
       "      <th>2009</th>\n",
       "      <td>267</td>\n",
       "      <td>514.0</td>\n",
       "    </tr>\n",
       "    <tr>\n",
       "      <th>2010</th>\n",
       "      <td>262</td>\n",
       "      <td>442.0</td>\n",
       "    </tr>\n",
       "    <tr>\n",
       "      <th>2011</th>\n",
       "      <td>273</td>\n",
       "      <td>454.0</td>\n",
       "    </tr>\n",
       "    <tr>\n",
       "      <th>2012</th>\n",
       "      <td>269</td>\n",
       "      <td>406.0</td>\n",
       "    </tr>\n",
       "    <tr>\n",
       "      <th>2013</th>\n",
       "      <td>218</td>\n",
       "      <td>383.0</td>\n",
       "    </tr>\n",
       "    <tr>\n",
       "      <th>2014</th>\n",
       "      <td>248</td>\n",
       "      <td>382.0</td>\n",
       "    </tr>\n",
       "    <tr>\n",
       "      <th>2015</th>\n",
       "      <td>233</td>\n",
       "      <td>397.0</td>\n",
       "    </tr>\n",
       "    <tr>\n",
       "      <th>2016</th>\n",
       "      <td>206</td>\n",
       "      <td>378.0</td>\n",
       "    </tr>\n",
       "    <tr>\n",
       "      <th>2017</th>\n",
       "      <td>205</td>\n",
       "      <td>333.0</td>\n",
       "    </tr>\n",
       "    <tr>\n",
       "      <th>2018</th>\n",
       "      <td>223</td>\n",
       "      <td>375.0</td>\n",
       "    </tr>\n",
       "    <tr>\n",
       "      <th>2019</th>\n",
       "      <td>232</td>\n",
       "      <td>396.0</td>\n",
       "    </tr>\n",
       "    <tr>\n",
       "      <th>2020</th>\n",
       "      <td>178</td>\n",
       "      <td>293.0</td>\n",
       "    </tr>\n",
       "    <tr>\n",
       "      <th>2021</th>\n",
       "      <td>178</td>\n",
       "      <td>289.0</td>\n",
       "    </tr>\n",
       "    <tr>\n",
       "      <th>2022</th>\n",
       "      <td>193</td>\n",
       "      <td>327.0</td>\n",
       "    </tr>\n",
       "  </tbody>\n",
       "</table>\n",
       "</div>"
      ],
      "text/plain": [
       "      count     sum\n",
       "Date               \n",
       "1985    558  1344.0\n",
       "1986    514  1153.0\n",
       "1987    491  1192.0\n",
       "1988    493   892.0\n",
       "1989    477  1057.0\n",
       "1990    498   940.0\n",
       "1991    477  1031.0\n",
       "1992    483   972.0\n",
       "1993    426   805.0\n",
       "1994    438  1064.0\n",
       "1995    431   776.0\n",
       "1996    382  1021.0\n",
       "1997    371   946.0\n",
       "1998    383   647.0\n",
       "1999    348   654.0\n",
       "2000    370   753.0\n",
       "2001    343   884.0\n",
       "2002    359   597.0\n",
       "2003    371   697.0\n",
       "2004    346   618.0\n",
       "2005    334   581.0\n",
       "2006    321   622.0\n",
       "2007    301   532.0\n",
       "2008    279   518.0\n",
       "2009    267   514.0\n",
       "2010    262   442.0\n",
       "2011    273   454.0\n",
       "2012    269   406.0\n",
       "2013    218   383.0\n",
       "2014    248   382.0\n",
       "2015    233   397.0\n",
       "2016    206   378.0\n",
       "2017    205   333.0\n",
       "2018    223   375.0\n",
       "2019    232   396.0\n",
       "2020    178   293.0\n",
       "2021    178   289.0\n",
       "2022    193   327.0"
      ]
     },
     "execution_count": 31,
     "metadata": {},
     "output_type": "execute_result"
    }
   ],
   "source": [
    "fatal_statistics= df_fatal_cases['Total.Fatal.Injuries'].groupby([df_fatal_cases['Date'].dt.year]).agg({'sum','count'})\n",
    "fatal_statistics"
   ]
  },
  {
   "cell_type": "markdown",
   "id": "c5256ad2",
   "metadata": {},
   "source": [
    "Now lets plot a graph"
   ]
  },
  {
   "cell_type": "code",
   "execution_count": 32,
   "id": "66976262",
   "metadata": {},
   "outputs": [
    {
     "data": {
      "image/png": "[encoded data removed]",
      "text/plain": [
       "<Figure size 800x500 with 1 Axes>"
      ]
     },
     "metadata": {},
     "output_type": "display_data"
    }
   ],
   "source": [
    "#Plotting a bar graph to show the rate of Fatal Inuries over time\n",
    "plt.figure(figsize=(8,5))\n",
    "# Using a Seaborn color palette\n",
    "palette = sns.color_palette(\"muted\",2)   \n",
    "# Plot with Seaborn colors\n",
    "plt.plot(fatal_statistics[['sum','count']], 'o-', lw=4, ms=10 )\n",
    "plt.gcf().set_facecolor('pink') \n",
    "# Adding Labels\n",
    "plt.legend(('Fatalities', 'Fatal accidents'))\n",
    "plt.title('Fatal accident historical trend')\n",
    "plt.xlabel('Year')\n",
    "plt.ylabel('Count')\n",
    "plt.grid()\n",
    "# Show\n",
    "plt.show()"
   ]
  },
  {
   "cell_type": "markdown",
   "id": "90e9becf",
   "metadata": {},
   "source": [
    "From the above plot we can see that the total fatal injuries and instances decrease overtime<br>\n",
    "Examining the NTSB accident data from the past four decades reveals a noticeable trend of declining fatal accidents and fatalities, highlighting increased air travel safety over the last 40 years ,a significant spike in fatalities may have happened in 2001 due to the tragic 9/11 events, when four airplanes crashed in a single day.\n",
    " ### Recommendation\n",
    "Based of of this analysis i'd recommend the stakeholders to invest in advanced safety technologies and continuous staff training ,\n",
    "the reasoning behind this is the decline in fatal accidents shows safety improvements are helpful to both them and the customers. Prioritizing safety aligns the business with industry standards, enhancing customer priority and confidence .\n",
    "\n",
    "secondly the business should highlight the improving safety records in marketing campaigns to build trust and attract customers and assure them tha choosing their line of work is the correct way the reasoning is that the decline in fatal accidents is a strong selling point. Showcasing safety commitment differentiates the business and appeals to safety-conscious travelers.\n",
    "They could do this by emphasizing safety in marketing and engage in PR efforts."
   ]
  },
  {
   "cell_type": "markdown",
   "id": "4ab6ad68",
   "metadata": {},
   "source": [
    "## Analysis 2 : Which airplane Make has the highest fatal accidents ?,and is the type of Engine a factor ?"
   ]
  },
  {
   "cell_type": "code",
   "execution_count": 33,
   "id": "615c2df3",
   "metadata": {},
   "outputs": [
    {
     "name": "stderr",
     "output_type": "stream",
     "text": [
      "C:\\Users\\user\\AppData\\Local\\Temp\\ipykernel_8268\\1912604929.py:18: MatplotlibDeprecationWarning: The get_cmap function was deprecated in Matplotlib 3.7 and will be removed two minor releases later. Use ``matplotlib.colormaps[name]`` or ``matplotlib.colormaps.get_cmap(obj)`` instead.\n",
      "  unique_colors = plt.cm.get_cmap('tab20', len(vals))\n"
     ]
    },
    {
     "data": {
      "image/png": "[encoded data removed]",
      "text/plain": [
       "<Figure size 800x600 with 1 Axes>"
      ]
     },
     "metadata": {},
     "output_type": "display_data"
    },
    {
     "data": {
      "text/plain": [
       "<Figure size 640x480 with 0 Axes>"
      ]
     },
     "metadata": {},
     "output_type": "display_data"
    }
   ],
   "source": [
    "# Calling on the function plot_value_counts_bar\n",
    "# To see which type of Airplane has  highest fatal accidents\n",
    "plot_value_counts_bar(series = df_fatal_cases[\"Make\"], \n",
    "                      title  = \"Fatal accident for each  make\", \n",
    "                      xlabel = \"Aircraft Make\", \n",
    "                      ylabel = \"Percentage of Fatal accidents\")\n",
    "\n",
    "plt.gcf().set_facecolor('blue') \n",
    "\n"
   ]
  },
  {
   "cell_type": "markdown",
   "id": "ef3db89b",
   "metadata": {},
   "source": [
    "There is an underlyng issue in the Dataset where \"CESSNA\" and \"cessna\" which are the same model have been listed as two separate models similarly we can see the same thing in \"PIPER\" and \"piper\" and also \"BEECH\" and \"Beech\"<br>\n",
    "We can change this by changing them to uppercase to avoid the redundant repetitions"
   ]
  },
  {
   "cell_type": "code",
   "execution_count": 34,
   "id": "ac21da6c",
   "metadata": {},
   "outputs": [
    {
     "name": "stderr",
     "output_type": "stream",
     "text": [
      "C:\\Users\\user\\AppData\\Local\\Temp\\ipykernel_8268\\1912604929.py:18: MatplotlibDeprecationWarning: The get_cmap function was deprecated in Matplotlib 3.7 and will be removed two minor releases later. Use ``matplotlib.colormaps[name]`` or ``matplotlib.colormaps.get_cmap(obj)`` instead.\n",
      "  unique_colors = plt.cm.get_cmap('tab20', len(vals))\n"
     ]
    },
    {
     "data": {
      "image/png": "[encoded data removed]",
      "text/plain": [
       "<Figure size 800x600 with 1 Axes>"
      ]
     },
     "metadata": {},
     "output_type": "display_data"
    }
   ],
   "source": [
    "# Changing the names of the Make to be Uppercase\n",
    "plot_value_counts_bar(series = df_fatal_cases[\"Make\"].str.upper(), \n",
    "                      title  = \"Fatal accidents for each Make\", \n",
    "                      xlabel = \"Aircraft Make\", \n",
    "                      ylabel = \"Percentage of Fatal accidents\")"
   ]
  },
  {
   "cell_type": "markdown",
   "id": "6d4ee5cf",
   "metadata": {},
   "source": [
    "Following the above plot we can formulate an understanding on which are the big three makes with the most fatalities\n",
    "Approximately 26% of fatal accidents involve Cessna aircraft, followed by Piper with 19%, and Beech with 9%."
   ]
  },
  {
   "cell_type": "markdown",
   "id": "8e80221c",
   "metadata": {},
   "source": [
    " Seeing which Engine types are most involved in Aviation accidents"
   ]
  },
  {
   "cell_type": "code",
   "execution_count": 35,
   "id": "4478dc2f",
   "metadata": {},
   "outputs": [
    {
     "data": {
      "image/png": "[encoded data removed]",
      "text/plain": [
       "<Figure size 800x800 with 1 Axes>"
      ]
     },
     "metadata": {},
     "output_type": "display_data"
    }
   ],
   "source": [
    "# Seeing which Engine types are most involved in Aviation accidents\n",
    "\n",
    "# Aggregate data and sort by counts\n",
    "engine_type_counts = df['Engine.Type'].value_counts()\n",
    "\n",
    "# Select top four engine types\n",
    "top_four_engine_types = engine_type_counts.nlargest(4)\n",
    "\n",
    "# Aggregate the remaining types into 'Other'\n",
    "other_count = engine_type_counts[4:].sum()\n",
    "\n",
    "# Create a new Series for the top types and 'Other'\n",
    "engine_type_counts_top = pd.concat([top_four_engine_types, pd.Series({'Other': other_count})])\n",
    "\n",
    "# Plot pie chart\n",
    "plt.figure(figsize=(8, 8))\n",
    "plt.pie(engine_type_counts_top, labels=engine_type_counts_top.index, autopct='%1.1f%%', startangle=140)\n",
    "plt.title('Top Four Engine Type Distribution')\n",
    "plt.show()"
   ]
  },
  {
   "cell_type": "markdown",
   "id": "d170c4ce",
   "metadata": {},
   "source": [
    "### Lets find out if there is a relationship between the Make and the Engine Types\n",
    "By using a contingency table we can perform a bivariate Analysis to see whether the type of engine in a specific Aircraft could be linked with amount of Accidents"
   ]
  },
  {
   "cell_type": "code",
   "execution_count": 36,
   "id": "ab68ecee",
   "metadata": {},
   "outputs": [
    {
     "data": {
      "text/html": [
       "<div>\n",
       "<style scoped>\n",
       "    .dataframe tbody tr th:only-of-type {\n",
       "        vertical-align: middle;\n",
       "    }\n",
       "\n",
       "    .dataframe tbody tr th {\n",
       "        vertical-align: top;\n",
       "    }\n",
       "\n",
       "    .dataframe thead th {\n",
       "        text-align: right;\n",
       "    }\n",
       "</style>\n",
       "<table border=\"1\" class=\"dataframe\">\n",
       "  <thead>\n",
       "    <tr style=\"text-align: right;\">\n",
       "      <th>Engine.Type</th>\n",
       "      <th>Electric</th>\n",
       "      <th>Geared Turbofan</th>\n",
       "      <th>Hybrid Rocket</th>\n",
       "      <th>LR</th>\n",
       "      <th>NONE</th>\n",
       "      <th>Reciprocating</th>\n",
       "      <th>Turbo Fan</th>\n",
       "      <th>Turbo Jet</th>\n",
       "      <th>Turbo Prop</th>\n",
       "      <th>Turbo Shaft</th>\n",
       "      <th>UNK</th>\n",
       "      <th>Unknown</th>\n",
       "    </tr>\n",
       "    <tr>\n",
       "      <th>Make</th>\n",
       "      <th></th>\n",
       "      <th></th>\n",
       "      <th></th>\n",
       "      <th></th>\n",
       "      <th></th>\n",
       "      <th></th>\n",
       "      <th></th>\n",
       "      <th></th>\n",
       "      <th></th>\n",
       "      <th></th>\n",
       "      <th></th>\n",
       "      <th></th>\n",
       "    </tr>\n",
       "  </thead>\n",
       "  <tbody>\n",
       "    <tr>\n",
       "      <th>107.5 FLYING CORPORATION</th>\n",
       "      <td>0</td>\n",
       "      <td>0</td>\n",
       "      <td>0</td>\n",
       "      <td>0</td>\n",
       "      <td>0</td>\n",
       "      <td>1</td>\n",
       "      <td>0</td>\n",
       "      <td>0</td>\n",
       "      <td>0</td>\n",
       "      <td>0</td>\n",
       "      <td>0</td>\n",
       "      <td>0</td>\n",
       "    </tr>\n",
       "    <tr>\n",
       "      <th>1200</th>\n",
       "      <td>0</td>\n",
       "      <td>0</td>\n",
       "      <td>0</td>\n",
       "      <td>0</td>\n",
       "      <td>0</td>\n",
       "      <td>1</td>\n",
       "      <td>0</td>\n",
       "      <td>0</td>\n",
       "      <td>0</td>\n",
       "      <td>0</td>\n",
       "      <td>0</td>\n",
       "      <td>0</td>\n",
       "    </tr>\n",
       "  </tbody>\n",
       "</table>\n",
       "</div>"
      ],
      "text/plain": [
       "Engine.Type               Electric  Geared Turbofan  Hybrid Rocket  LR  NONE  \\\n",
       "Make                                                                           \n",
       "107.5 FLYING CORPORATION         0                0              0   0     0   \n",
       "1200                             0                0              0   0     0   \n",
       "\n",
       "Engine.Type               Reciprocating  Turbo Fan  Turbo Jet  Turbo Prop  \\\n",
       "Make                                                                        \n",
       "107.5 FLYING CORPORATION              1          0          0           0   \n",
       "1200                                  1          0          0           0   \n",
       "\n",
       "Engine.Type               Turbo Shaft  UNK  Unknown  \n",
       "Make                                                 \n",
       "107.5 FLYING CORPORATION            0    0        0  \n",
       "1200                                0    0        0  "
      ]
     },
     "execution_count": 36,
     "metadata": {},
     "output_type": "execute_result"
    }
   ],
   "source": [
    "# Creating a contingency table of Make and Engine.Type\n",
    "contingency_table = pd.crosstab(df['Make'].str.upper(), df['Engine.Type'])\n",
    "\n",
    "# Display the table\n",
    "contingency_table.head(2)"
   ]
  },
  {
   "cell_type": "code",
   "execution_count": 37,
   "id": "781b877f",
   "metadata": {},
   "outputs": [],
   "source": [
    "\n",
    "# Identifyig the most common Makes and Engine Types by performing a value count and selecting the largest\n",
    "most_common_makes = df['Make'].str.upper().value_counts().nlargest(3).index  \n",
    "most_common_engine_types = df['Engine.Type'].value_counts().nlargest(3).index \n",
    "\n",
    "# Filter the dataset for the most common Makes and Engine Types\n",
    "fresh_df = df[df['Make'].isin(most_common_makes) & df['Engine.Type'].isin(most_common_engine_types)]"
   ]
  },
  {
   "cell_type": "code",
   "execution_count": 38,
   "id": "1218b654",
   "metadata": {},
   "outputs": [
    {
     "data": {
      "text/html": [
       "<div>\n",
       "<style scoped>\n",
       "    .dataframe tbody tr th:only-of-type {\n",
       "        vertical-align: middle;\n",
       "    }\n",
       "\n",
       "    .dataframe tbody tr th {\n",
       "        vertical-align: top;\n",
       "    }\n",
       "\n",
       "    .dataframe thead th {\n",
       "        text-align: right;\n",
       "    }\n",
       "</style>\n",
       "<table border=\"1\" class=\"dataframe\">\n",
       "  <thead>\n",
       "    <tr style=\"text-align: right;\">\n",
       "      <th>Engine.Type</th>\n",
       "      <th>Reciprocating</th>\n",
       "      <th>Turbo Prop</th>\n",
       "    </tr>\n",
       "    <tr>\n",
       "      <th>Make</th>\n",
       "      <th></th>\n",
       "      <th></th>\n",
       "    </tr>\n",
       "  </thead>\n",
       "  <tbody>\n",
       "    <tr>\n",
       "      <th>BEECH</th>\n",
       "      <td>788</td>\n",
       "      <td>111</td>\n",
       "    </tr>\n",
       "    <tr>\n",
       "      <th>CESSNA</th>\n",
       "      <td>4157</td>\n",
       "      <td>87</td>\n",
       "    </tr>\n",
       "    <tr>\n",
       "      <th>PIPER</th>\n",
       "      <td>2466</td>\n",
       "      <td>57</td>\n",
       "    </tr>\n",
       "  </tbody>\n",
       "</table>\n",
       "</div>"
      ],
      "text/plain": [
       "Engine.Type  Reciprocating  Turbo Prop\n",
       "Make                                  \n",
       "BEECH                  788         111\n",
       "CESSNA                4157          87\n",
       "PIPER                 2466          57"
      ]
     },
     "execution_count": 38,
     "metadata": {},
     "output_type": "execute_result"
    }
   ],
   "source": [
    "pivot_table = fresh_df.pivot_table(index='Make', columns='Engine.Type', values='Event.Id', aggfunc='count')\n",
    "pivot_table\n"
   ]
  },
  {
   "cell_type": "code",
   "execution_count": 39,
   "id": "33e56b3a",
   "metadata": {},
   "outputs": [
    {
     "data": {
      "image/png": "[encoded data removed]",
      "text/plain": [
       "<Figure size 1200x800 with 2 Axes>"
      ]
     },
     "metadata": {},
     "output_type": "display_data"
    }
   ],
   "source": [
    "# Plotting the Heat map of The Make and the Engine types\n",
    "plt.figure(figsize=(12, 8))\n",
    "sns.heatmap(pivot_table, annot=True, fmt=\".1f\", cmap=\"Reds\")\n",
    "plt.title('Heatmap of Accident Counts by Most Common Make and Engine Type')\n",
    "# labells\n",
    "plt.xlabel('Engine Type')\n",
    "plt.ylabel('Make')\n",
    "plt.show()"
   ]
  },
  {
   "cell_type": "markdown",
   "id": "074c1b8f",
   "metadata": {},
   "source": [
    "From this plot we can then establish that the Make which was \"CESSNA\" together with the engine type \"Reciprocating\" was related and they had an inter-relationship by being the leading make and engine types involved in most Aviation incidences rrspectively"
   ]
  },
  {
   "cell_type": "markdown",
   "id": "7b559caf",
   "metadata": {},
   "source": [
    "### Recommendation\n",
    "Avoid acquiring high-crash aircraft models and implement rigorous maintenance protocols the rationale is Identifying risky airplanes makes allows for the safer fleet acquisition and reduced risk. Enhanced maintenance ensures optimal operation they can do this by Conducting risk assessments before purchases, establishing stringent maintenance schedules, and collaborating with manufacturers on safety issues.\n",
    "\n",
    "Implementing targeted safety protocols and inspections for the high-risk engine type the reasoning behind this is Addressing the engine-specific risk with focused preventive measures reduces accident likelihood by developing tailored inspection programs, training maintenance crews on specific issues, and collaborating with manufacturers for safety updates and upgrades.For instance according to investigators, reciprocating engine-powered aircraft continue to crash with the wrong type of fuel in their tanks"
   ]
  },
  {
   "cell_type": "markdown",
   "id": "413b12e4",
   "metadata": {},
   "source": [
    "## Analysis 3 : Which weather conditions are the Harshest when it comes to Air Transport ?"
   ]
  },
  {
   "cell_type": "code",
   "execution_count": 40,
   "id": "63eea49b",
   "metadata": {},
   "outputs": [
    {
     "name": "stderr",
     "output_type": "stream",
     "text": [
      "C:\\Users\\user\\AppData\\Local\\Temp\\ipykernel_8268\\1912604929.py:18: MatplotlibDeprecationWarning: The get_cmap function was deprecated in Matplotlib 3.7 and will be removed two minor releases later. Use ``matplotlib.colormaps[name]`` or ``matplotlib.colormaps.get_cmap(obj)`` instead.\n",
      "  unique_colors = plt.cm.get_cmap('tab20', len(vals))\n"
     ]
    },
    {
     "data": {
      "image/png": "[encoded data removed]",
      "text/plain": [
       "<Figure size 800x600 with 1 Axes>"
      ]
     },
     "metadata": {},
     "output_type": "display_data"
    }
   ],
   "source": [
    "# Changing the names of the Make to be Uppercase\n",
    "plot_value_counts_bar(series = df_fatal_cases[\"Weather.Condition\"].str.upper(), \n",
    "                      title  = \"Weather conditions in at the time of Fatal injuries\", \n",
    "                      xlabel = \"Weather Conditions\", \n",
    "                      ylabel = \"Percentage of Fatal accidents\")"
   ]
  },
  {
   "cell_type": "markdown",
   "id": "17d6c1fe",
   "metadata": {},
   "source": [
    "Based of of this plot there are three different weather conditions <br>\n",
    "* VMC or rather(Visual Meteorological Conditions) <br>\n",
    "* IMC (Instrument Meterological Conditions)<br>\n",
    "* UNK(Unknown)<br>\n",
    "\n",
    "\n",
    " We can see That the leading percentage of fatal injuries occur mostly during the VMC or rather(Visual Meteorological Conditions) then followed byIMC (Instrument Meterological Conditions)<br>\n",
    "While practically the UNK(Unknown) does not contribute a lot <br>\n",
    "while IMC conditions are inherently more challenging and risky, the structured and cautious approach required tends to mitigate those risks effectively. Conversely, the perceived safety and ease of VMC can lead to complacency, overconfidence, and a higher incidence of accidents resulting in a lot of fatal injuries.<br>\n",
    "In hindsight Stakeholders should consider investing in aircraft equipped with advanced technology and instrumentation to better handle challenges that arise even in Visual Meteorological Conditions (VMC). This proactive approach can significantly enhance safety by reducing the risks associated with pilot overconfidence, unexpected weather changes, and other potential hazards that VMC alone cannot mitigate.Therefore greatly reducing the instances of potential accidents\n",
    "\n",
    "\n",
    "\n",
    "\n",
    "\n",
    "\n"
   ]
  },
  {
   "cell_type": "markdown",
   "id": "d934848f",
   "metadata": {},
   "source": [
    "### Recommendations\n",
    "Equipping aircraft with advanced weather monitoring tools and decision support systems because these systems help pilots make informed decisions, reducing the likelihood of fatal injuries steps that should be taken are installing advanced weather radar, integrating real-time decision support systems, and providing continuous training for effective utilization.\n",
    "\n",
    "Invest in comprehensive pilot training and simulation for handling flights in VMC and IMC conditions. Despite VMC being safer, high fatal injury rates indicate a critical need for situational awareness training. Improved proficiency in both conditions reduces accidents by Implementing advanced simulation training, conducting regular refresher courses, and integrating real-life case studies into training modules."
   ]
  },
  {
   "cell_type": "code",
   "execution_count": 41,
   "id": "39c1de80",
   "metadata": {},
   "outputs": [
    {
     "data": {
      "text/html": [
       "<div>\n",
       "<style scoped>\n",
       "    .dataframe tbody tr th:only-of-type {\n",
       "        vertical-align: middle;\n",
       "    }\n",
       "\n",
       "    .dataframe tbody tr th {\n",
       "        vertical-align: top;\n",
       "    }\n",
       "\n",
       "    .dataframe thead th {\n",
       "        text-align: right;\n",
       "    }\n",
       "</style>\n",
       "<table border=\"1\" class=\"dataframe\">\n",
       "  <thead>\n",
       "    <tr style=\"text-align: right;\">\n",
       "      <th></th>\n",
       "      <th>Event.Id</th>\n",
       "      <th>Investigation.Type</th>\n",
       "      <th>Location</th>\n",
       "      <th>Country</th>\n",
       "      <th>Injury.Severity</th>\n",
       "      <th>Aircraft.damage</th>\n",
       "      <th>Make</th>\n",
       "      <th>Model</th>\n",
       "      <th>Amateur.Built</th>\n",
       "      <th>Number.of.Engines</th>\n",
       "      <th>Engine.Type</th>\n",
       "      <th>Purpose.of.flight</th>\n",
       "      <th>Total.Fatal.Injuries</th>\n",
       "      <th>Total.Serious.Injuries</th>\n",
       "      <th>Total.Minor.Injuries</th>\n",
       "      <th>Total.Uninjured</th>\n",
       "      <th>Weather.Condition</th>\n",
       "      <th>Date</th>\n",
       "    </tr>\n",
       "  </thead>\n",
       "  <tbody>\n",
       "    <tr>\n",
       "      <th>10535</th>\n",
       "      <td>20001214X35495</td>\n",
       "      <td>Accident</td>\n",
       "      <td>EDGEWOOD, NM</td>\n",
       "      <td>United States</td>\n",
       "      <td>Fatal(2)</td>\n",
       "      <td>Destroyed</td>\n",
       "      <td>Cessna</td>\n",
       "      <td>310N</td>\n",
       "      <td>No</td>\n",
       "      <td>2.0</td>\n",
       "      <td>Reciprocating</td>\n",
       "      <td>Personal</td>\n",
       "      <td>2.0</td>\n",
       "      <td>0.0</td>\n",
       "      <td>0.0</td>\n",
       "      <td>0.0</td>\n",
       "      <td>IMC</td>\n",
       "      <td>1985-01-01</td>\n",
       "    </tr>\n",
       "    <tr>\n",
       "      <th>10539</th>\n",
       "      <td>20001214X35584</td>\n",
       "      <td>Accident</td>\n",
       "      <td>PAWNEE CITY, NE</td>\n",
       "      <td>United States</td>\n",
       "      <td>Fatal(1)</td>\n",
       "      <td>Substantial</td>\n",
       "      <td>Cessna</td>\n",
       "      <td>150F</td>\n",
       "      <td>No</td>\n",
       "      <td>1.0</td>\n",
       "      <td>Reciprocating</td>\n",
       "      <td>Personal</td>\n",
       "      <td>1.0</td>\n",
       "      <td>1.0</td>\n",
       "      <td>0.0</td>\n",
       "      <td>0.0</td>\n",
       "      <td>VMC</td>\n",
       "      <td>1985-01-02</td>\n",
       "    </tr>\n",
       "  </tbody>\n",
       "</table>\n",
       "</div>"
      ],
      "text/plain": [
       "             Event.Id Investigation.Type         Location        Country  \\\n",
       "10535  20001214X35495           Accident     EDGEWOOD, NM  United States   \n",
       "10539  20001214X35584           Accident  PAWNEE CITY, NE  United States   \n",
       "\n",
       "      Injury.Severity Aircraft.damage    Make Model Amateur.Built  \\\n",
       "10535        Fatal(2)       Destroyed  Cessna  310N            No   \n",
       "10539        Fatal(1)     Substantial  Cessna  150F            No   \n",
       "\n",
       "       Number.of.Engines    Engine.Type Purpose.of.flight  \\\n",
       "10535                2.0  Reciprocating          Personal   \n",
       "10539                1.0  Reciprocating          Personal   \n",
       "\n",
       "       Total.Fatal.Injuries  Total.Serious.Injuries  Total.Minor.Injuries  \\\n",
       "10535                   2.0                     0.0                   0.0   \n",
       "10539                   1.0                     1.0                   0.0   \n",
       "\n",
       "       Total.Uninjured Weather.Condition       Date  \n",
       "10535              0.0               IMC 1985-01-01  \n",
       "10539              0.0               VMC 1985-01-02  "
      ]
     },
     "execution_count": 41,
     "metadata": {},
     "output_type": "execute_result"
    }
   ],
   "source": [
    "df_fatal_cases.head(2)"
   ]
  },
  {
   "cell_type": "markdown",
   "id": "f375cdb8",
   "metadata": {},
   "source": [
    "## Analysis 4 : Which purposes of Flight caused more Accidents ?"
   ]
  },
  {
   "cell_type": "code",
   "execution_count": 42,
   "id": "47164a9e",
   "metadata": {},
   "outputs": [
    {
     "name": "stderr",
     "output_type": "stream",
     "text": [
      "C:\\Users\\user\\AppData\\Local\\Temp\\ipykernel_8268\\1912604929.py:18: MatplotlibDeprecationWarning: The get_cmap function was deprecated in Matplotlib 3.7 and will be removed two minor releases later. Use ``matplotlib.colormaps[name]`` or ``matplotlib.colormaps.get_cmap(obj)`` instead.\n",
      "  unique_colors = plt.cm.get_cmap('tab20', len(vals))\n"
     ]
    },
    {
     "data": {
      "image/png": "[encoded data removed]",
      "text/plain": [
       "<Figure size 800x600 with 1 Axes>"
      ]
     },
     "metadata": {},
     "output_type": "display_data"
    }
   ],
   "source": [
    "plot_value_counts_bar(series = df_fatal_cases[\"Purpose.of.flight\"].str.upper(), \n",
    "                      title  = \"Reasons for flight\", \n",
    "                      xlabel = \"Purpose of flights\",\n",
    "                      ylabel = \"Percentage of Fatal accidents\",\n",
    "                      topN=10 )"
   ]
  },
  {
   "cell_type": "markdown",
   "id": "526d31dc",
   "metadata": {},
   "source": [
    "### Recommendations\n",
    "Enhancing Safety Protocols for Personal and Unknown Purposes and Developing stringent safety guidelines and checklists for personal and unknown flight purposes. Provide specialized training on risk management and decision-making for non-commercial flights. Collaborate with aviation safety authorities to enhance awareness and compliance. \n",
    "\n",
    "Implement Robust Safety Oversight and Reporting Mechanisms and establish comprehensive safety oversight and reporting systems for all flight purposes. Implement a confidential reporting system for pilots, conduct regular safety audits, and foster a safety culture focused on continuous improvement and learning."
   ]
  },
  {
   "cell_type": "markdown",
   "id": "f1a332b2",
   "metadata": {},
   "source": [
    "## Analysis 5 : What are the regions, states and the cities most affected by these Aircraft incidences ?"
   ]
  },
  {
   "cell_type": "markdown",
   "id": "b377295d",
   "metadata": {},
   "source": [
    "Now we want to localise to which cities and states are more affected by Aeronautical accidents"
   ]
  },
  {
   "cell_type": "code",
   "execution_count": 43,
   "id": "5ec3b221",
   "metadata": {},
   "outputs": [],
   "source": [
    "df_us = df_us = df[df['Country'] == 'United States']\n",
    "df_us.reset_index(drop=True, inplace=True)"
   ]
  },
  {
   "cell_type": "code",
   "execution_count": 44,
   "id": "5142246e",
   "metadata": {},
   "outputs": [],
   "source": [
    "df_us = df_us.copy()"
   ]
  },
  {
   "cell_type": "code",
   "execution_count": null,
   "id": "6b09e6f4",
   "metadata": {},
   "outputs": [],
   "source": [
    "\n",
    "# Due to errors with the loaded csv USState_Codes.csv I opted to use the underlying list of valid state codes valid_stc\n",
    "valid_stc = [\n",
    "    'AL', 'AK', 'AZ', 'AR', 'CA', 'CO', 'CT', 'DE', 'FL', 'GA', \n",
    "    'HI', 'ID', 'IL', 'IN', 'IA', 'KS', 'KY', 'LA', 'ME', 'MD', \n",
    "    'MA', 'MI', 'MN', 'MS', 'MO', 'MT', 'NE', 'NV', 'NH', 'NJ', \n",
    "    'NM', 'NY', 'NC', 'ND', 'OH', 'OK', 'OR', 'PA', 'RI', 'SC', \n",
    "    'SD', 'TN', 'TX', 'UT', 'VT', 'VA', 'WA', 'WV', 'WI', 'WY'\n",
    "]\n",
    "# Defining the function to extract city and state from the Location and to c\n",
    "def extract_city_state(location):\n",
    "    if pd.notna(location):\n",
    "        location = location.strip()\n",
    "        last_two_chars = location[-2:].upper()\n",
    "        print(f\"Location: {location}, Last Two Chars: {last_two_chars}\") \n",
    "        # Debug print\n",
    "        if last_two_chars in valid_stc:\n",
    "            city = location[:-4].strip()  # Adjust to handle \", \" before state code\n",
    "            print(f\"Extracted City: {city}, State: {last_two_chars}\")  # Debug print\n",
    "            return city, last_two_chars\n",
    "        else:\n",
    "            print(f\"Not Applicable Location: {location}\")  # Debug print\n",
    "            return location, \"Not Applicable\"\n",
    "    else:\n",
    "        return np.nan, np.nan\n",
    "    # Apply the function to create 'City' and 'State' columns\n",
    "df_us[['City', 'State']] = df_us['Location'].apply(extract_city_state).apply(pd.Series)\n",
    "    "
   ]
  },
  {
   "cell_type": "code",
   "execution_count": 47,
   "id": "e1bd311d",
   "metadata": {},
   "outputs": [],
   "source": [
    "# getting rid of trailing commas in City column\n",
    "df_us['City'] = df_us['City'].str.rstrip(',')"
   ]
  },
  {
   "cell_type": "code",
   "execution_count": 48,
   "id": "84747dfc",
   "metadata": {},
   "outputs": [],
   "source": [
    "# having devided Location and Date columns, now we can drop these as well\n",
    "df_us.drop(columns=['Date', 'Location'], inplace=True)"
   ]
  },
  {
   "cell_type": "code",
   "execution_count": 49,
   "id": "a4609d82",
   "metadata": {},
   "outputs": [
    {
     "data": {
      "text/html": [
       "<div>\n",
       "<style scoped>\n",
       "    .dataframe tbody tr th:only-of-type {\n",
       "        vertical-align: middle;\n",
       "    }\n",
       "\n",
       "    .dataframe tbody tr th {\n",
       "        vertical-align: top;\n",
       "    }\n",
       "\n",
       "    .dataframe thead th {\n",
       "        text-align: right;\n",
       "    }\n",
       "</style>\n",
       "<table border=\"1\" class=\"dataframe\">\n",
       "  <thead>\n",
       "    <tr style=\"text-align: right;\">\n",
       "      <th></th>\n",
       "      <th>Event.Id</th>\n",
       "      <th>Investigation.Type</th>\n",
       "      <th>Country</th>\n",
       "      <th>Injury.Severity</th>\n",
       "      <th>Aircraft.damage</th>\n",
       "      <th>Make</th>\n",
       "      <th>Model</th>\n",
       "      <th>Amateur.Built</th>\n",
       "      <th>Number.of.Engines</th>\n",
       "      <th>Engine.Type</th>\n",
       "      <th>Purpose.of.flight</th>\n",
       "      <th>Total.Fatal.Injuries</th>\n",
       "      <th>Total.Serious.Injuries</th>\n",
       "      <th>Total.Minor.Injuries</th>\n",
       "      <th>Total.Uninjured</th>\n",
       "      <th>Weather.Condition</th>\n",
       "      <th>City</th>\n",
       "      <th>State</th>\n",
       "    </tr>\n",
       "  </thead>\n",
       "  <tbody>\n",
       "    <tr>\n",
       "      <th>0</th>\n",
       "      <td>20001218X45444</td>\n",
       "      <td>Accident</td>\n",
       "      <td>United States</td>\n",
       "      <td>Fatal(2)</td>\n",
       "      <td>Destroyed</td>\n",
       "      <td>Stinson</td>\n",
       "      <td>108-3</td>\n",
       "      <td>No</td>\n",
       "      <td>1.0</td>\n",
       "      <td>Reciprocating</td>\n",
       "      <td>Personal</td>\n",
       "      <td>2.0</td>\n",
       "      <td>0.0</td>\n",
       "      <td>0.0</td>\n",
       "      <td>0.0</td>\n",
       "      <td>UNK</td>\n",
       "      <td>MOOSE CREEK</td>\n",
       "      <td>ID</td>\n",
       "    </tr>\n",
       "    <tr>\n",
       "      <th>1</th>\n",
       "      <td>20001218X45447</td>\n",
       "      <td>Accident</td>\n",
       "      <td>United States</td>\n",
       "      <td>Fatal(4)</td>\n",
       "      <td>Destroyed</td>\n",
       "      <td>Piper</td>\n",
       "      <td>PA24-180</td>\n",
       "      <td>No</td>\n",
       "      <td>1.0</td>\n",
       "      <td>Reciprocating</td>\n",
       "      <td>Personal</td>\n",
       "      <td>4.0</td>\n",
       "      <td>0.0</td>\n",
       "      <td>0.0</td>\n",
       "      <td>0.0</td>\n",
       "      <td>UNK</td>\n",
       "      <td>BRIDGEPORT</td>\n",
       "      <td>CA</td>\n",
       "    </tr>\n",
       "  </tbody>\n",
       "</table>\n",
       "</div>"
      ],
      "text/plain": [
       "         Event.Id Investigation.Type        Country Injury.Severity  \\\n",
       "0  20001218X45444           Accident  United States        Fatal(2)   \n",
       "1  20001218X45447           Accident  United States        Fatal(4)   \n",
       "\n",
       "  Aircraft.damage     Make     Model Amateur.Built  Number.of.Engines  \\\n",
       "0       Destroyed  Stinson     108-3            No                1.0   \n",
       "1       Destroyed    Piper  PA24-180            No                1.0   \n",
       "\n",
       "     Engine.Type Purpose.of.flight  Total.Fatal.Injuries  \\\n",
       "0  Reciprocating          Personal                   2.0   \n",
       "1  Reciprocating          Personal                   4.0   \n",
       "\n",
       "   Total.Serious.Injuries  Total.Minor.Injuries  Total.Uninjured  \\\n",
       "0                     0.0                   0.0              0.0   \n",
       "1                     0.0                   0.0              0.0   \n",
       "\n",
       "  Weather.Condition         City State  \n",
       "0               UNK  MOOSE CREEK    ID  \n",
       "1               UNK   BRIDGEPORT    CA  "
      ]
     },
     "execution_count": 49,
     "metadata": {},
     "output_type": "execute_result"
    }
   ],
   "source": [
    "#Preview the DataFrame to see if the changes have been made to the  label row\n",
    "df_us.head(2)"
   ]
  },
  {
   "cell_type": "code",
   "execution_count": 50,
   "id": "39b601e5",
   "metadata": {},
   "outputs": [
    {
     "name": "stderr",
     "output_type": "stream",
     "text": [
      "C:\\Users\\user\\AppData\\Local\\Temp\\ipykernel_8268\\1484211449.py:4: MatplotlibDeprecationWarning: The get_cmap function was deprecated in Matplotlib 3.7 and will be removed two minor releases later. Use ``matplotlib.colormaps[name]`` or ``matplotlib.colormaps.get_cmap(obj)`` instead.\n",
      "  cmap = cm.get_cmap('cividis', len(top_10_states))\n"
     ]
    },
    {
     "data": {
      "image/png": "[encoded data removed]",
      "text/plain": [
       "<Figure size 600x400 with 1 Axes>"
      ]
     },
     "metadata": {},
     "output_type": "display_data"
    }
   ],
   "source": [
    "# Let's have a look at top ten states with most accidents \n",
    "top_10_states = df_us['State'].value_counts().head(10)\n",
    "#Gtting Colour pala from cmap\n",
    "cmap = cm.get_cmap('cividis', len(top_10_states))\n",
    "colors = cmap(range(len(top_10_states)))\n",
    "\n",
    "\n",
    "plt.figure(figsize=(6, 4))\n",
    "bars = plt.bar(top_10_states.index, top_10_states.values, color=colors)\n",
    "plt.xlabel('State')\n",
    "plt.ylabel('Count')\n",
    "plt.title('Top 10 States with Most Accidents')\n",
    "plt.xticks(rotation=45)\n",
    "plt.grid(axis='y', linestyle='--', alpha=0.7)\n",
    "plt.show()"
   ]
  },
  {
   "cell_type": "markdown",
   "id": "405bf998",
   "metadata": {},
   "source": [
    "Lets then Plot a heat map to show the States that have been Affected mostly by Aviation Accidents through out the years from 1982"
   ]
  },
  {
   "cell_type": "code",
   "execution_count": 51,
   "id": "590da9fd",
   "metadata": {},
   "outputs": [
    {
     "data": {
      "application/vnd.plotly.v1+json": {
       "config": {
        "plotlyServerURL": "https://plot.ly"
       },
       "data": [
        {
         "coloraxis": "coloraxis",
         "geo": "geo",
         "hovertemplate": "State=%{location}<br>Count=%{z}<extra></extra>",
         "locationmode": "USA-states",
         "locations": [
          "CA",
          "TX",
          "FL",
          "AK",
          "AZ",
          "CO",
          "WA",
          "IL",
          "MI",
          "GA",
          "NY",
          "OH",
          "PA",
          "OR",
          "NC",
          "MO",
          "WI",
          "AR",
          "MN",
          "ID",
          "NM",
          "UT",
          "IN",
          "VA",
          "OK",
          "NV",
          "LA",
          "NJ",
          "AL",
          "TN",
          "KS",
          "MT",
          "SC",
          "MA",
          "IA",
          "MD",
          "MS",
          "WY",
          "NE",
          "KY",
          "ND",
          "ME",
          "CT",
          "HI",
          "SD",
          "WV",
          "NH",
          "Not Applicable",
          "VT",
          "RI",
          "DE"
         ],
         "name": "",
         "type": "choropleth",
         "z": [
          8779,
          5859,
          5781,
          5639,
          2804,
          2695,
          2581,
          2042,
          2012,
          1999,
          1895,
          1806,
          1779,
          1755,
          1646,
          1556,
          1550,
          1510,
          1442,
          1424,
          1342,
          1315,
          1311,
          1262,
          1235,
          1225,
          1203,
          1157,
          1141,
          1103,
          1099,
          1038,
          969,
          961,
          813,
          809,
          806,
          736,
          720,
          648,
          557,
          502,
          501,
          490,
          445,
          391,
          367,
          298,
          240,
          157,
          114
         ]
        }
       ],
       "layout": {
        "coloraxis": {
         "colorbar": {
          "title": {
           "text": "Count"
          }
         },
         "colorscale": [
          [
           0,
           "rgb(255,245,235)"
          ],
          [
           0.125,
           "rgb(254,230,206)"
          ],
          [
           0.25,
           "rgb(253,208,162)"
          ],
          [
           0.375,
           "rgb(253,174,107)"
          ],
          [
           0.5,
           "rgb(253,141,60)"
          ],
          [
           0.625,
           "rgb(241,105,19)"
          ],
          [
           0.75,
           "rgb(217,72,1)"
          ],
          [
           0.875,
           "rgb(166,54,3)"
          ],
          [
           1,
           "rgb(127,39,4)"
          ]
         ]
        },
        "geo": {
         "center": {},
         "domain": {
          "x": [
           0,
           1
          ],
          "y": [
           0,
           1
          ]
         },
         "scope": "usa"
        },
        "legend": {
         "tracegroupgap": 0
        },
        "template": {
         "data": {
          "bar": [
           {
            "error_x": {
             "color": "#2a3f5f"
            },
            "error_y": {
             "color": "#2a3f5f"
            },
            "marker": {
             "line": {
              "color": "#E5ECF6",
              "width": 0.5
             },
             "pattern": {
              "fillmode": "overlay",
              "size": 10,
              "solidity": 0.2
             }
            },
            "type": "bar"
           }
          ],
          "barpolar": [
           {
            "marker": {
             "line": {
              "color": "#E5ECF6",
              "width": 0.5
             },
             "pattern": {
              "fillmode": "overlay",
              "size": 10,
              "solidity": 0.2
             }
            },
            "type": "barpolar"
           }
          ],
          "carpet": [
           {
            "aaxis": {
             "endlinecolor": "#2a3f5f",
             "gridcolor": "white",
             "linecolor": "white",
             "minorgridcolor": "white",
             "startlinecolor": "#2a3f5f"
            },
            "baxis": {
             "endlinecolor": "#2a3f5f",
             "gridcolor": "white",
             "linecolor": "white",
             "minorgridcolor": "white",
             "startlinecolor": "#2a3f5f"
            },
            "type": "carpet"
           }
          ],
          "choropleth": [
           {
            "colorbar": {
             "outlinewidth": 0,
             "ticks": ""
            },
            "type": "choropleth"
           }
          ],
          "contour": [
           {
            "colorbar": {
             "outlinewidth": 0,
             "ticks": ""
            },
            "colorscale": [
             [
              0,
              "#0d0887"
             ],
             [
              0.1111111111111111,
              "#46039f"
             ],
             [
              0.2222222222222222,
              "#7201a8"
             ],
             [
              0.3333333333333333,
              "#9c179e"
             ],
             [
              0.4444444444444444,
              "#bd3786"
             ],
             [
              0.5555555555555556,
              "#d8576b"
             ],
             [
              0.6666666666666666,
              "#ed7953"
             ],
             [
              0.7777777777777778,
              "#fb9f3a"
             ],
             [
              0.8888888888888888,
              "#fdca26"
             ],
             [
              1,
              "#f0f921"
             ]
            ],
            "type": "contour"
           }
          ],
          "contourcarpet": [
           {
            "colorbar": {
             "outlinewidth": 0,
             "ticks": ""
            },
            "type": "contourcarpet"
           }
          ],
          "heatmap": [
           {
            "colorbar": {
             "outlinewidth": 0,
             "ticks": ""
            },
            "colorscale": [
             [
              0,
              "#0d0887"
             ],
             [
              0.1111111111111111,
              "#46039f"
             ],
             [
              0.2222222222222222,
              "#7201a8"
             ],
             [
              0.3333333333333333,
              "#9c179e"
             ],
             [
              0.4444444444444444,
              "#bd3786"
             ],
             [
              0.5555555555555556,
              "#d8576b"
             ],
             [
              0.6666666666666666,
              "#ed7953"
             ],
             [
              0.7777777777777778,
              "#fb9f3a"
             ],
             [
              0.8888888888888888,
              "#fdca26"
             ],
             [
              1,
              "#f0f921"
             ]
            ],
            "type": "heatmap"
           }
          ],
          "heatmapgl": [
           {
            "colorbar": {
             "outlinewidth": 0,
             "ticks": ""
            },
            "colorscale": [
             [
              0,
              "#0d0887"
             ],
             [
              0.1111111111111111,
              "#46039f"
             ],
             [
              0.2222222222222222,
              "#7201a8"
             ],
             [
              0.3333333333333333,
              "#9c179e"
             ],
             [
              0.4444444444444444,
              "#bd3786"
             ],
             [
              0.5555555555555556,
              "#d8576b"
             ],
             [
              0.6666666666666666,
              "#ed7953"
             ],
             [
              0.7777777777777778,
              "#fb9f3a"
             ],
             [
              0.8888888888888888,
              "#fdca26"
             ],
             [
              1,
              "#f0f921"
             ]
            ],
            "type": "heatmapgl"
           }
          ],
          "histogram": [
           {
            "marker": {
             "pattern": {
              "fillmode": "overlay",
              "size": 10,
              "solidity": 0.2
             }
            },
            "type": "histogram"
           }
          ],
          "histogram2d": [
           {
            "colorbar": {
             "outlinewidth": 0,
             "ticks": ""
            },
            "colorscale": [
             [
              0,
              "#0d0887"
             ],
             [
              0.1111111111111111,
              "#46039f"
             ],
             [
              0.2222222222222222,
              "#7201a8"
             ],
             [
              0.3333333333333333,
              "#9c179e"
             ],
             [
              0.4444444444444444,
              "#bd3786"
             ],
             [
              0.5555555555555556,
              "#d8576b"
             ],
             [
              0.6666666666666666,
              "#ed7953"
             ],
             [
              0.7777777777777778,
              "#fb9f3a"
             ],
             [
              0.8888888888888888,
              "#fdca26"
             ],
             [
              1,
              "#f0f921"
             ]
            ],
            "type": "histogram2d"
           }
          ],
          "histogram2dcontour": [
           {
            "colorbar": {
             "outlinewidth": 0,
             "ticks": ""
            },
            "colorscale": [
             [
              0,
              "#0d0887"
             ],
             [
              0.1111111111111111,
              "#46039f"
             ],
             [
              0.2222222222222222,
              "#7201a8"
             ],
             [
              0.3333333333333333,
              "#9c179e"
             ],
             [
              0.4444444444444444,
              "#bd3786"
             ],
             [
              0.5555555555555556,
              "#d8576b"
             ],
             [
              0.6666666666666666,
              "#ed7953"
             ],
             [
              0.7777777777777778,
              "#fb9f3a"
             ],
             [
              0.8888888888888888,
              "#fdca26"
             ],
             [
              1,
              "#f0f921"
             ]
            ],
            "type": "histogram2dcontour"
           }
          ],
          "mesh3d": [
           {
            "colorbar": {
             "outlinewidth": 0,
             "ticks": ""
            },
            "type": "mesh3d"
           }
          ],
          "parcoords": [
           {
            "line": {
             "colorbar": {
              "outlinewidth": 0,
              "ticks": ""
             }
            },
            "type": "parcoords"
           }
          ],
          "pie": [
           {
            "automargin": true,
            "type": "pie"
           }
          ],
          "scatter": [
           {
            "fillpattern": {
             "fillmode": "overlay",
             "size": 10,
             "solidity": 0.2
            },
            "type": "scatter"
           }
          ],
          "scatter3d": [
           {
            "line": {
             "colorbar": {
              "outlinewidth": 0,
              "ticks": ""
             }
            },
            "marker": {
             "colorbar": {
              "outlinewidth": 0,
              "ticks": ""
             }
            },
            "type": "scatter3d"
           }
          ],
          "scattercarpet": [
           {
            "marker": {
             "colorbar": {
              "outlinewidth": 0,
              "ticks": ""
             }
            },
            "type": "scattercarpet"
           }
          ],
          "scattergeo": [
           {
            "marker": {
             "colorbar": {
              "outlinewidth": 0,
              "ticks": ""
             }
            },
            "type": "scattergeo"
           }
          ],
          "scattergl": [
           {
            "marker": {
             "colorbar": {
              "outlinewidth": 0,
              "ticks": ""
             }
            },
            "type": "scattergl"
           }
          ],
          "scattermapbox": [
           {
            "marker": {
             "colorbar": {
              "outlinewidth": 0,
              "ticks": ""
             }
            },
            "type": "scattermapbox"
           }
          ],
          "scatterpolar": [
           {
            "marker": {
             "colorbar": {
              "outlinewidth": 0,
              "ticks": ""
             }
            },
            "type": "scatterpolar"
           }
          ],
          "scatterpolargl": [
           {
            "marker": {
             "colorbar": {
              "outlinewidth": 0,
              "ticks": ""
             }
            },
            "type": "scatterpolargl"
           }
          ],
          "scatterternary": [
           {
            "marker": {
             "colorbar": {
              "outlinewidth": 0,
              "ticks": ""
             }
            },
            "type": "scatterternary"
           }
          ],
          "surface": [
           {
            "colorbar": {
             "outlinewidth": 0,
             "ticks": ""
            },
            "colorscale": [
             [
              0,
              "#0d0887"
             ],
             [
              0.1111111111111111,
              "#46039f"
             ],
             [
              0.2222222222222222,
              "#7201a8"
             ],
             [
              0.3333333333333333,
              "#9c179e"
             ],
             [
              0.4444444444444444,
              "#bd3786"
             ],
             [
              0.5555555555555556,
              "#d8576b"
             ],
             [
              0.6666666666666666,
              "#ed7953"
             ],
             [
              0.7777777777777778,
              "#fb9f3a"
             ],
             [
              0.8888888888888888,
              "#fdca26"
             ],
             [
              1,
              "#f0f921"
             ]
            ],
            "type": "surface"
           }
          ],
          "table": [
           {
            "cells": {
             "fill": {
              "color": "#EBF0F8"
             },
             "line": {
              "color": "white"
             }
            },
            "header": {
             "fill": {
              "color": "#C8D4E3"
             },
             "line": {
              "color": "white"
             }
            },
            "type": "table"
           }
          ]
         },
         "layout": {
          "annotationdefaults": {
           "arrowcolor": "#2a3f5f",
           "arrowhead": 0,
           "arrowwidth": 1
          },
          "autotypenumbers": "strict",
          "coloraxis": {
           "colorbar": {
            "outlinewidth": 0,
            "ticks": ""
           }
          },
          "colorscale": {
           "diverging": [
            [
             0,
             "#8e0152"
            ],
            [
             0.1,
             "#c51b7d"
            ],
            [
             0.2,
             "#de77ae"
            ],
            [
             0.3,
             "#f1b6da"
            ],
            [
             0.4,
             "#fde0ef"
            ],
            [
             0.5,
             "#f7f7f7"
            ],
            [
             0.6,
             "#e6f5d0"
            ],
            [
             0.7,
             "#b8e186"
            ],
            [
             0.8,
             "#7fbc41"
            ],
            [
             0.9,
             "#4d9221"
            ],
            [
             1,
             "#276419"
            ]
           ],
           "sequential": [
            [
             0,
             "#0d0887"
            ],
            [
             0.1111111111111111,
             "#46039f"
            ],
            [
             0.2222222222222222,
             "#7201a8"
            ],
            [
             0.3333333333333333,
             "#9c179e"
            ],
            [
             0.4444444444444444,
             "#bd3786"
            ],
            [
             0.5555555555555556,
             "#d8576b"
            ],
            [
             0.6666666666666666,
             "#ed7953"
            ],
            [
             0.7777777777777778,
             "#fb9f3a"
            ],
            [
             0.8888888888888888,
             "#fdca26"
            ],
            [
             1,
             "#f0f921"
            ]
           ],
           "sequentialminus": [
            [
             0,
             "#0d0887"
            ],
            [
             0.1111111111111111,
             "#46039f"
            ],
            [
             0.2222222222222222,
             "#7201a8"
            ],
            [
             0.3333333333333333,
             "#9c179e"
            ],
            [
             0.4444444444444444,
             "#bd3786"
            ],
            [
             0.5555555555555556,
             "#d8576b"
            ],
            [
             0.6666666666666666,
             "#ed7953"
            ],
            [
             0.7777777777777778,
             "#fb9f3a"
            ],
            [
             0.8888888888888888,
             "#fdca26"
            ],
            [
             1,
             "#f0f921"
            ]
           ]
          },
          "colorway": [
           "#636efa",
           "#EF553B",
           "#00cc96",
           "#ab63fa",
           "#FFA15A",
           "#19d3f3",
           "#FF6692",
           "#B6E880",
           "#FF97FF",
           "#FECB52"
          ],
          "font": {
           "color": "#2a3f5f"
          },
          "geo": {
           "bgcolor": "white",
           "lakecolor": "white",
           "landcolor": "#E5ECF6",
           "showlakes": true,
           "showland": true,
           "subunitcolor": "white"
          },
          "hoverlabel": {
           "align": "left"
          },
          "hovermode": "closest",
          "mapbox": {
           "style": "light"
          },
          "paper_bgcolor": "white",
          "plot_bgcolor": "#E5ECF6",
          "polar": {
           "angularaxis": {
            "gridcolor": "white",
            "linecolor": "white",
            "ticks": ""
           },
           "bgcolor": "#E5ECF6",
           "radialaxis": {
            "gridcolor": "white",
            "linecolor": "white",
            "ticks": ""
           }
          },
          "scene": {
           "xaxis": {
            "backgroundcolor": "#E5ECF6",
            "gridcolor": "white",
            "gridwidth": 2,
            "linecolor": "white",
            "showbackground": true,
            "ticks": "",
            "zerolinecolor": "white"
           },
           "yaxis": {
            "backgroundcolor": "#E5ECF6",
            "gridcolor": "white",
            "gridwidth": 2,
            "linecolor": "white",
            "showbackground": true,
            "ticks": "",
            "zerolinecolor": "white"
           },
           "zaxis": {
            "backgroundcolor": "#E5ECF6",
            "gridcolor": "white",
            "gridwidth": 2,
            "linecolor": "white",
            "showbackground": true,
            "ticks": "",
            "zerolinecolor": "white"
           }
          },
          "shapedefaults": {
           "line": {
            "color": "#2a3f5f"
           }
          },
          "ternary": {
           "aaxis": {
            "gridcolor": "white",
            "linecolor": "white",
            "ticks": ""
           },
           "baxis": {
            "gridcolor": "white",
            "linecolor": "white",
            "ticks": ""
           },
           "bgcolor": "#E5ECF6",
           "caxis": {
            "gridcolor": "white",
            "linecolor": "white",
            "ticks": ""
           }
          },
          "title": {
           "x": 0.05
          },
          "xaxis": {
           "automargin": true,
           "gridcolor": "white",
           "linecolor": "white",
           "ticks": "",
           "title": {
            "standoff": 15
           },
           "zerolinecolor": "white",
           "zerolinewidth": 2
          },
          "yaxis": {
           "automargin": true,
           "gridcolor": "white",
           "linecolor": "white",
           "ticks": "",
           "title": {
            "standoff": 15
           },
           "zerolinecolor": "white",
           "zerolinewidth": 2
          }
         }
        },
        "title": {
         "text": "Distribution of Aviation Accidents Around the US"
        }
       }
      }
     },
     "metadata": {},
     "output_type": "display_data"
    }
   ],
   "source": [
    "# A heatmap visualising the distribution of aviation accidents around the US\n",
    "state_counts = df_us['State'].value_counts().reset_index()\n",
    "state_counts.columns = ['State', 'Count']\n",
    "\n",
    "import plotly.express as px\n",
    "fig = px.choropleth(\n",
    "    state_counts,\n",
    "    locations=\"State\",\n",
    "    locationmode=\"USA-states\",\n",
    "    color=\"Count\",\n",
    "    scope=\"usa\",\n",
    "    title=\"Distribution of Aviation Accidents Around the US\",\n",
    "    color_continuous_scale= 'Oranges',\n",
    "\n",
    ")\n",
    "fig.show()"
   ]
  },
  {
   "cell_type": "markdown",
   "id": "9f5e87cc",
   "metadata": {},
   "source": [
    "### Recommendations\n",
    "Investing in upgrading aviation infrastructure and adopting advanced technologies in high-accident states to enhance safety and operational efficiency. Improved infrastructure and technology reduce accident risks and enhance safety standards by Upgrading airport facilities, deploying advanced air traffic management systems and weather monitoring, and advocating for regulatory reforms with local authorities and industry partners.\n",
    "\n",
    "Conducting detailed safety assessments and develop tailored safety plans for high-accident states like California, Texas, Florida, and Alaska. Concentrated accidents highlight localized safety challenges. Addressing these through targeted plans can mitigate risks and enhance safety by collaborating with local authorities, analyzing accident data, implementing state-specific safety initiatives, and engaging community stakeholders to promote safety culture."
   ]
  },
  {
   "cell_type": "markdown",
   "id": "bc5127aa",
   "metadata": {},
   "source": [
    "## Conclusions\n",
    "In conclusion after the thorough investigation i've perfomed through the data preparation and analysis there has been a significant decrease in aviation accidents since 1982 which has been encouraging in the aviation sector, but it's clear that certain states, such as  Texas, Florida and California still experience significantly higher accident rates.  Addressing this issue, it is imperative to continually enhance the safety protocols, regulations, and the procedures in place. Regular reviews and updates of these measures should be given paramount priority so as to stay ahead of emerging risks. In high-accident states, there should be a concerted effort to increase surveillance and regulatory enforcement activities to mitigate the risks associated with aviation accidents.\n",
    "\n",
    "The majority of Aviation accident incidents occur during favourable weather. Pilots may grow confident in these weather conditions because they believe there are less risks than in the harsher conditions. This can lead to a careless attitude toward safety standards and possibly unsafe activities, such as  flying in low levels and at high speeds while performing  aerobatics, which increase the chances of accidents. It is advised that unsafe behaviours should be discouraged  , it is essential to emphasise the significance of flying within specified safety standards.\n",
    "\n",
    "Similarly personal flights are responsible for big portion of aviation accidents, for personal flights, comprehensive education and training programs should be promoted for pilots. Insisting on a safety-first culture within the personal aviation community is essentialc,by making safety a top priority in all personal flight activities the reduction of accidents is materialized. Pilots must be well-prepared and aware of the potential risks associated with personal aviation, regardless of the weather conditions and the level of skillset the pilot has thus having a minimal chance  for the possibility of accidents"
   ]
  },
  {
   "cell_type": "markdown",
   "id": "f9ed0d36",
   "metadata": {},
   "source": [
    "## Final Recommendations\n"
   ]
  },
  {
   "cell_type": "markdown",
   "id": "4f803021",
   "metadata": {},
   "source": [
    "* #### Enhance Safety Protocols Across All Operations: <br>\n",
    "Implement safety protocols all through, regardless of flight purpose or location. Provide ongoing training to enhance risk management and decision-making skills for all crew. Foster a proactive safety culture with incident reporting and continuous learning.<br>\n",
    "\n",
    "* #### Invest in Advanced Technology and Infrastructure: <br>\n",
    "Upgrade aviation infrastructure, such as airports and runways, to exceed safety standards. Deploy advanced systems for air traffic management, weather monitoring, and decision support to improve situational awareness and operational efficiency. Advocate for regulatory reforms to enforce industry best practices.<br>\n",
    "\n",
    "* #### Conduct Regional Safety Assessments and Planning:  <br>\n",
    "Collaborate closely with local aviation authorities and stakeholders to analyze regional accident data. Develop customized safety plans for high-risk states or regions, focusing on specific risks and effective mitigation strategies. Engage local communities to promote safety initiatives aligned with their priorities.<br>\n",
    "\n",
    "* #### Continuous Improvement and Monitoring: <br>\n",
    "Regularly conduct safety audits and assessments to monitor effectiveness and identify areas for enhancement. Integrate insights from incidents, case studies, and industry advancements into ongoing training and operational procedures. Stay updated on emerging technologies, regulatory changes, and best practices to continually elevate safety standards and also operational practices."
   ]
  },
  {
   "cell_type": "code",
   "execution_count": null,
   "id": "92eb0146",
   "metadata": {},
   "outputs": [],
   "source": [
    "df.to_csv('')"
   ]
  }
 ],
 "metadata": {
  "kernelspec": {
   "display_name": "Python 3 (ipykernel)",
   "language": "python",
   "name": "python3"
  },
  "language_info": {
   "codemirror_mode": {
    "name": "ipython",
    "version": 3
   },
   "file_extension": ".py",
   "mimetype": "text/x-python",
   "name": "python",
   "nbconvert_exporter": "python",
   "pygments_lexer": "ipython3",
   "version": "3.11.7"
  }
 },
 "nbformat": 4,
 "nbformat_minor": 5
}
